{
 "cells": [
  {
   "cell_type": "code",
   "execution_count": 1,
   "metadata": {},
   "outputs": [],
   "source": [
    "import pandas as pd\n",
    "import os"
   ]
  },
  {
   "cell_type": "code",
   "execution_count": 2,
   "metadata": {},
   "outputs": [],
   "source": [
    "import matplotlib"
   ]
  },
  {
   "cell_type": "code",
   "execution_count": 3,
   "metadata": {},
   "outputs": [],
   "source": [
    "df = pd.read_csv(\"../csse_covid_19_data/csse_covid_19_time_series/time_series_covid19_confirmed_global.csv\")"
   ]
  },
  {
   "cell_type": "code",
   "execution_count": null,
   "metadata": {},
   "outputs": [],
   "source": []
  },
  {
   "cell_type": "code",
   "execution_count": 4,
   "metadata": {},
   "outputs": [],
   "source": [
    "% matplotlib inline"
   ]
  },
  {
   "cell_type": "code",
   "execution_count": 6,
   "metadata": {},
   "outputs": [],
   "source": [
    "import numpy as np\n",
    "import matplotlib.pyplot as plt"
   ]
  },
  {
   "cell_type": "code",
   "execution_count": 8,
   "metadata": {},
   "outputs": [],
   "source": [
    "# for state, country  in zip (df[\"Province/State\"], df[\"Country/Region\"] ):\n",
    "#     plt.clf()\n",
    "#     try:\n",
    "#         if np.isnan(state):\n",
    "#             dfcountry = df[df[\"Country/Region\"] == country]\n",
    "#             dfcountry.iloc[0][5:].plot(title=country)\n",
    "#             plt.savefig(\"../graphs_20200323/\"+country+ \".png\")\n",
    "            \n",
    "#     except TypeError:\n",
    "#         dfstate = df[df[\"Province/State\"] == state]\n",
    "#         dfstate.iloc[0][5:].plot(title=state)       \n",
    "#         plt.savefig(\"../graphs_20200323/\"+country + \" \"+ state + \".png\")"
   ]
  },
  {
   "cell_type": "code",
   "execution_count": 9,
   "metadata": {},
   "outputs": [],
   "source": [
    "import os\n",
    "files = os.listdir(\"../csse_covid_19_data/csse_covid_19_daily_reports/\")"
   ]
  },
  {
   "cell_type": "code",
   "execution_count": 10,
   "metadata": {},
   "outputs": [],
   "source": [
    "files = [f for f in files if f[0] == '0' ]"
   ]
  },
  {
   "cell_type": "code",
   "execution_count": 11,
   "metadata": {},
   "outputs": [],
   "source": [
    "files.sort()\n",
    "dates = [d[:-4] for d in files]"
   ]
  },
  {
   "cell_type": "code",
   "execution_count": 12,
   "metadata": {},
   "outputs": [
    {
     "data": {
      "text/plain": [
       "['01-22-2020',\n",
       " '01-23-2020',\n",
       " '01-24-2020',\n",
       " '01-25-2020',\n",
       " '01-26-2020',\n",
       " '01-27-2020',\n",
       " '01-28-2020',\n",
       " '01-29-2020',\n",
       " '01-30-2020',\n",
       " '01-31-2020',\n",
       " '02-01-2020',\n",
       " '02-02-2020',\n",
       " '02-03-2020',\n",
       " '02-04-2020',\n",
       " '02-05-2020',\n",
       " '02-06-2020',\n",
       " '02-07-2020',\n",
       " '02-08-2020',\n",
       " '02-09-2020',\n",
       " '02-10-2020',\n",
       " '02-11-2020',\n",
       " '02-12-2020',\n",
       " '02-13-2020',\n",
       " '02-14-2020',\n",
       " '02-15-2020',\n",
       " '02-16-2020',\n",
       " '02-17-2020',\n",
       " '02-18-2020',\n",
       " '02-19-2020',\n",
       " '02-20-2020',\n",
       " '02-21-2020',\n",
       " '02-22-2020',\n",
       " '02-23-2020',\n",
       " '02-24-2020',\n",
       " '02-25-2020',\n",
       " '02-26-2020',\n",
       " '02-27-2020',\n",
       " '02-28-2020',\n",
       " '02-29-2020',\n",
       " '03-01-2020',\n",
       " '03-02-2020',\n",
       " '03-03-2020',\n",
       " '03-04-2020',\n",
       " '03-05-2020',\n",
       " '03-06-2020',\n",
       " '03-07-2020',\n",
       " '03-08-2020',\n",
       " '03-09-2020',\n",
       " '03-10-2020',\n",
       " '03-11-2020',\n",
       " '03-12-2020',\n",
       " '03-13-2020',\n",
       " '03-14-2020',\n",
       " '03-15-2020',\n",
       " '03-16-2020',\n",
       " '03-17-2020',\n",
       " '03-18-2020',\n",
       " '03-19-2020',\n",
       " '03-20-2020',\n",
       " '03-21-2020',\n",
       " '03-22-2020',\n",
       " '03-23-2020',\n",
       " '03-24-2020',\n",
       " '03-25-2020']"
      ]
     },
     "execution_count": 12,
     "metadata": {},
     "output_type": "execute_result"
    }
   ],
   "source": [
    "dates"
   ]
  },
  {
   "cell_type": "code",
   "execution_count": 13,
   "metadata": {},
   "outputs": [],
   "source": [
    "dataframes = {}\n",
    "\n",
    "for f,d in zip(files,dates):\n",
    "    df = pd.read_csv(\"../csse_covid_19_data/csse_covid_19_daily_reports/\"+ f)\n",
    "    dataframes[d] = df"
   ]
  },
  {
   "cell_type": "code",
   "execution_count": 14,
   "metadata": {},
   "outputs": [
    {
     "data": {
      "text/plain": [
       "dict_keys(['01-22-2020', '01-23-2020', '01-24-2020', '01-25-2020', '01-26-2020', '01-27-2020', '01-28-2020', '01-29-2020', '01-30-2020', '01-31-2020', '02-01-2020', '02-02-2020', '02-03-2020', '02-04-2020', '02-05-2020', '02-06-2020', '02-07-2020', '02-08-2020', '02-09-2020', '02-10-2020', '02-11-2020', '02-12-2020', '02-13-2020', '02-14-2020', '02-15-2020', '02-16-2020', '02-17-2020', '02-18-2020', '02-19-2020', '02-20-2020', '02-21-2020', '02-22-2020', '02-23-2020', '02-24-2020', '02-25-2020', '02-26-2020', '02-27-2020', '02-28-2020', '02-29-2020', '03-01-2020', '03-02-2020', '03-03-2020', '03-04-2020', '03-05-2020', '03-06-2020', '03-07-2020', '03-08-2020', '03-09-2020', '03-10-2020', '03-11-2020', '03-12-2020', '03-13-2020', '03-14-2020', '03-15-2020', '03-16-2020', '03-17-2020', '03-18-2020', '03-19-2020', '03-20-2020', '03-21-2020', '03-22-2020', '03-23-2020', '03-24-2020', '03-25-2020'])"
      ]
     },
     "execution_count": 14,
     "metadata": {},
     "output_type": "execute_result"
    }
   ],
   "source": [
    "dataframes.keys()"
   ]
  },
  {
   "cell_type": "code",
   "execution_count": 15,
   "metadata": {},
   "outputs": [],
   "source": [
    "from datetime import date, datetime, timedelta"
   ]
  },
  {
   "cell_type": "code",
   "execution_count": 16,
   "metadata": {},
   "outputs": [],
   "source": [
    "today = datetime.strftime(date.today(),'%m-%d-%Y')\n",
    "os.mkdir(\"../graphs_\"+today)"
   ]
  },
  {
   "cell_type": "code",
   "execution_count": 17,
   "metadata": {},
   "outputs": [],
   "source": [
    "if today not in dataframes.keys():\n",
    "    yesterday = datetime.strftime(date.today() - timedelta(1),'%m-%d-%Y')"
   ]
  },
  {
   "cell_type": "code",
   "execution_count": 18,
   "metadata": {},
   "outputs": [],
   "source": [
    "try:\n",
    "    latest_data = dataframes[today]\n",
    "except KeyError:\n",
    "    latest_data = dataframes[yesterday]"
   ]
  },
  {
   "cell_type": "code",
   "execution_count": 19,
   "metadata": {},
   "outputs": [],
   "source": [
    "states = set(latest_data[\"Province_State\"].tolist())"
   ]
  },
  {
   "cell_type": "code",
   "execution_count": 20,
   "metadata": {},
   "outputs": [],
   "source": [
    "try:\n",
    "    states.remove(np.nan)\n",
    "except KeyError:\n",
    "    pass"
   ]
  },
  {
   "cell_type": "code",
   "execution_count": 21,
   "metadata": {},
   "outputs": [
    {
     "data": {
      "text/plain": [
       "Index(['FIPS', 'Admin2', 'Province_State', 'Country_Region', 'Last_Update',\n",
       "       'Lat', 'Long_', 'Confirmed', 'Deaths', 'Recovered', 'Active',\n",
       "       'Combined_Key'],\n",
       "      dtype='object')"
      ]
     },
     "execution_count": 21,
     "metadata": {},
     "output_type": "execute_result"
    }
   ],
   "source": [
    "\n",
    "\n",
    "\n",
    "\n",
    "latest_data.columns"
   ]
  },
  {
   "cell_type": "code",
   "execution_count": 22,
   "metadata": {},
   "outputs": [],
   "source": [
    "texas_2020_03_24 =  dataframes['03-23-2020'][dataframes['03-23-2020'][\"Province_State\"] == \"Texas\"].Confirmed.sum()"
   ]
  },
  {
   "cell_type": "code",
   "execution_count": 23,
   "metadata": {},
   "outputs": [
    {
     "data": {
      "text/plain": [
       "758"
      ]
     },
     "execution_count": 23,
     "metadata": {},
     "output_type": "execute_result"
    }
   ],
   "source": [
    "texas_2020_03_24"
   ]
  },
  {
   "cell_type": "code",
   "execution_count": 24,
   "metadata": {},
   "outputs": [],
   "source": [
    "countries = set(latest_data[\"Country_Region\"].tolist())"
   ]
  },
  {
   "cell_type": "code",
   "execution_count": 25,
   "metadata": {},
   "outputs": [],
   "source": [
    "try:\n",
    "    countries.remove(np.nan)\n",
    "except KeyError:\n",
    "    pass\n"
   ]
  },
  {
   "cell_type": "code",
   "execution_count": 26,
   "metadata": {},
   "outputs": [],
   "source": [
    "state_data = {}\n",
    "for state in states:\n",
    "    daily_confirmed_for_state = {}\n",
    "    for date in dates:\n",
    "        try:\n",
    "            daily_confirmed = dataframes[date][dataframes[date][\"Province_State\"] == state].Confirmed.sum()\n",
    "        except KeyError:\n",
    "            daily_confirmed = dataframes[date][dataframes[date][\"Province/State\"] == state].Confirmed.sum()    \n",
    "        daily_confirmed_for_state[date] = daily_confirmed\n",
    "    state_data[state] = daily_confirmed_for_state"
   ]
  },
  {
   "cell_type": "code",
   "execution_count": 27,
   "metadata": {},
   "outputs": [],
   "source": [
    "country_data = {}\n",
    "for country in countries:\n",
    "    daily_confirmed_for_country = {}\n",
    "    for date in dates:\n",
    "        try:\n",
    "            daily_confirmed = dataframes[date][dataframes[date][\"Country_Region\"] == country].Confirmed.sum()\n",
    "        except KeyError:\n",
    "            daily_confirmed = dataframes[date][dataframes[date][\"Country/Region\"] == country].Confirmed.sum()    \n",
    "        daily_confirmed_for_country[date] = daily_confirmed\n",
    "    country_data[country] = daily_confirmed_for_country"
   ]
  },
  {
   "cell_type": "code",
   "execution_count": 28,
   "metadata": {},
   "outputs": [],
   "source": [
    "import matplotlib.pyplot as plt\n",
    "import matplotlib.dates as mdates\n",
    "import datetime as dt\n",
    "from pathlib import Path"
   ]
  },
  {
   "cell_type": "code",
   "execution_count": 45,
   "metadata": {},
   "outputs": [],
   "source": [
    "\n",
    "os.makedirs(\"../graphs/Country_Region/\"+ today, exist_ok=True) \n",
    "os.makedirs(\"../graphs/State_Province/\"+ today, exist_ok=True) \n",
    "os.makedirs(\"../graphs/County_or_City/\"+ today, exist_ok=True) \n",
    "\n",
    "\n"
   ]
  },
  {
   "cell_type": "code",
   "execution_count": 47,
   "metadata": {},
   "outputs": [],
   "source": [
    "def plot_figure(daily_totals, title, directory):\n",
    "    dates = list(daily_totals.keys())\n",
    "    x = [dt.datetime.strptime(d,'%m-%d-%Y').date() for d in dates]\n",
    "    y = []\n",
    "    for d in daily_totals.values():\n",
    "        try:\n",
    "            y.append(int(d))\n",
    "        except ValueError:\n",
    "            y.append(0)\n",
    "    #y = [ int(y) for y in daily_totals.values()]\n",
    "    if y[-1] > 100:\n",
    "        x, y = remove_less_than_10_days(x,y,title)\n",
    "    else:\n",
    "        x, y = remove_zero_days(x,y,title)\n",
    "    plt.suptitle(title)\n",
    "    plt.figure(figsize=(30,10))\n",
    "    plt.gca().xaxis.set_major_formatter(mdates.DateFormatter('%m-%d-%Y'))\n",
    "    plt.gca().xaxis.set_major_locator(mdates.DayLocator())\n",
    "    #ax.yaxis.set_label_position(\"right\")\n",
    "    #ax.yaxis.tick_right()\n",
    "    if len(x) < 2:\n",
    "        plt.close()\n",
    "        return\n",
    "    plt.plot(x, y)\n",
    "    plt.gcf().autofmt_xdate()\n",
    "    plt.savefig(\"../graphs/\"+directory+ \"/\" +today +\"/\"+title + \".png\")\n",
    "    plt.close()\n",
    " "
   ]
  },
  {
   "cell_type": "code",
   "execution_count": 48,
   "metadata": {},
   "outputs": [],
   "source": [
    "def remove_less_than_10_days(x,y,title):\n",
    "    first_case = 0\n",
    "    for value in y:\n",
    "        if value < 11:\n",
    "            first_case += 1\n",
    "        else:\n",
    "            break\n",
    "    return x[first_case:], y[first_case:]\n",
    "    "
   ]
  },
  {
   "cell_type": "code",
   "execution_count": 49,
   "metadata": {},
   "outputs": [],
   "source": [
    "def remove_zero_days(x,y,title):\n",
    "    first_case = 0\n",
    "    for value in y:\n",
    "        if value < 1:\n",
    "            first_case += 1\n",
    "        else:\n",
    "            break\n",
    "    return x[first_case:], y[first_case:]\n",
    "    \n",
    "    "
   ]
  },
  {
   "cell_type": "code",
   "execution_count": 50,
   "metadata": {},
   "outputs": [
    {
     "data": {
      "text/plain": [
       "<matplotlib.figure.Figure at 0x7ffdd5384a90>"
      ]
     },
     "metadata": {},
     "output_type": "display_data"
    }
   ],
   "source": [
    "for country in country_data.keys():\n",
    "    plot_figure(country_data[country], country, \"Country_Region\")"
   ]
  },
  {
   "cell_type": "code",
   "execution_count": 51,
   "metadata": {},
   "outputs": [
    {
     "data": {
      "text/plain": [
       "<matplotlib.figure.Figure at 0x7ffd826a1ba8>"
      ]
     },
     "metadata": {},
     "output_type": "display_data"
    }
   ],
   "source": [
    "for state in state_data.keys():\n",
    "    plot_figure(state_data[state], state,\"State_Province\")"
   ]
  },
  {
   "cell_type": "code",
   "execution_count": 52,
   "metadata": {},
   "outputs": [
    {
     "ename": "TypeError",
     "evalue": "plot_figure() missing 1 required positional argument: 'directory'",
     "output_type": "error",
     "traceback": [
      "\u001b[0;31m---------------------------------------------------------------------------\u001b[0m",
      "\u001b[0;31mTypeError\u001b[0m                                 Traceback (most recent call last)",
      "\u001b[0;32m<ipython-input-52-26a6cc176778>\u001b[0m in \u001b[0;36m<module>\u001b[0;34m()\u001b[0m\n\u001b[0;32m----> 1\u001b[0;31m \u001b[0mplot_figure\u001b[0m\u001b[0;34m(\u001b[0m\u001b[0mstate_data\u001b[0m\u001b[0;34m[\u001b[0m\u001b[0;34m\"Texas\"\u001b[0m\u001b[0;34m]\u001b[0m\u001b[0;34m,\u001b[0m\u001b[0;34m\"Texas\"\u001b[0m\u001b[0;34m)\u001b[0m\u001b[0;34m\u001b[0m\u001b[0m\n\u001b[0m",
      "\u001b[0;31mTypeError\u001b[0m: plot_figure() missing 1 required positional argument: 'directory'"
     ]
    }
   ],
   "source": [
    "# plot_figure(state_data[\"Texas\"],\"Texas\", \"State_Province\")"
   ]
  },
  {
   "cell_type": "code",
   "execution_count": 53,
   "metadata": {},
   "outputs": [
    {
     "data": {
      "text/plain": [
       "Index(['FIPS', 'Admin2', 'Province_State', 'Country_Region', 'Last_Update',\n",
       "       'Lat', 'Long_', 'Confirmed', 'Deaths', 'Recovered', 'Active',\n",
       "       'Combined_Key'],\n",
       "      dtype='object')"
      ]
     },
     "execution_count": 53,
     "metadata": {},
     "output_type": "execute_result"
    }
   ],
   "source": [
    "latest_data.columns"
   ]
  },
  {
   "cell_type": "code",
   "execution_count": 54,
   "metadata": {},
   "outputs": [],
   "source": [
    "county_counties = set(latest_data[\"Admin2\"].tolist())"
   ]
  },
  {
   "cell_type": "code",
   "execution_count": 55,
   "metadata": {},
   "outputs": [],
   "source": [
    "try:\n",
    "    county_counties.remove(np.nan)\n",
    "except KeyErorr:\n",
    "    pass"
   ]
  },
  {
   "cell_type": "code",
   "execution_count": 58,
   "metadata": {},
   "outputs": [],
   "source": [
    "county_country = {}\n",
    "for county in county_counties:\n",
    "    county_country[county] = latest_data[latest_data[\"Admin2\"] == county][\"Combined_Key\"].values[0]"
   ]
  },
  {
   "cell_type": "code",
   "execution_count": 59,
   "metadata": {},
   "outputs": [
    {
     "data": {
      "text/plain": [
       "dict_keys(['Schoharie', 'Strafford', 'Rogers', 'Sevier', 'Magoffin', 'Saguache', 'Chambers', 'Dauphin', 'Highlands', 'Monongalia', \"Queen Anne's\", 'Harper', 'Saginaw', 'Kemper', 'Perquimans', 'Scioto', 'Gunnison', 'Kimble', 'Siskiyou', 'Wayne', 'Lafayette', 'Botetourt', 'Woodruff', 'Attala', 'La Paz', 'Major', 'Wahkiakum', 'Eau Claire', 'Waushara', 'Brevard', 'Raleigh', 'Montague', 'Zapata', 'Dunklin', 'Pittsylvania', 'Aurora', 'Surry', 'Anne Arundel', 'Chickasaw', 'Perry', 'Inyo', 'Issaquena', 'La Salle', 'Adams', 'Buckingham', 'Chenango', 'Muscogee', 'Nicollet', 'Aiken', 'Cullman', 'Latimer', 'Overton', 'Sonoma', 'Ontario', 'Carson', 'Kleberg', 'Tuolumne', 'Darke', 'Holt', 'Gem', 'Bexar', 'Carroll', 'Tarrant', 'Kusilvak', 'St. Bernard', 'Steuben', 'Mahaska', 'Gregg', 'Cook', 'Payette', 'Garden', 'Stillwater', 'Owen', 'Niobrara', 'Caswell', 'Stokes', 'Juab', 'Ascension', 'Roanoke City', 'Mathews', 'Medina', 'Madera', 'Olmsted', 'Sweet Grass', 'Marin', 'Walla Walla', 'Bradford', 'Elko County', 'Yellow Medicine', 'Spencer', 'Hartford', 'Mecklenburg', 'Morrill', 'Oswego', 'St. Lucie', 'Orange', 'Richland', 'St. Louis', 'Marion', 'Johnson', 'Barber', 'Morrison', 'Upson', 'Monona', 'Colbert', 'Paulding', 'LaSalle', 'Pueblo', 'Milwaukee', 'Midland', 'Cameron', 'Berks', 'San Patricio', 'Searcy', 'Tulsa', 'Grenada', 'Brewster', 'Glenn', 'Greenville', 'Christian', 'Macon', 'Shackelford', 'Chowan', 'Stoddard', 'Lycoming', 'Florence', 'Curry', 'Travis', 'Vance', 'Wadena', 'Spalding', 'Vilas', 'Loudoun', 'Baldwin', 'Palo Pinto', 'St. Tammany', 'Oceana', 'Whitman', 'Yavapai', 'Honolulu', 'Nottoway', 'Camas', 'Beaverhead', 'Nowata', 'Fond du Lac', 'Mahoning', 'Harrison', 'Wythe', 'Story', 'Wyandotte', 'Okanogan', 'Crisp', 'Brooks', 'Whitley', 'Henrico', 'Hawaii', 'Nelson', 'Talbot', 'Hardeman', 'Ritchie', 'Summers', 'Butler', 'Tate', 'Seward', 'Bronx', 'Dakota', 'Oregon', 'Converse', 'Wasatch', 'Harlan', 'Hitchcock', 'Keith', 'White Pine', 'Passaic', 'Lynchburg', 'Walthall', 'Brooke', 'Broome', 'Evangeline', 'Claiborne', 'Gage', 'Roanoke', 'Abbeville', 'Hinds', 'Dolores', 'Garrard', 'Tensas', 'Hockley', 'Love', 'King and Queen', 'Beaver', 'Bland', 'Northumberland', 'Bergen', 'Gilliam', 'St. Croix', 'Merrick', 'Dallas', 'Kerr', 'Cottle', 'Klamath', 'Des Moines', 'Alexandria', 'Fresno', 'Callaway', 'Navajo', 'Sibley', 'DeWitt', 'Elko', 'Columbus', 'Rolette', 'Washtenaw', 'Walworth', 'Philadelphia', 'Letcher', 'Vinton', 'Calloway', 'Creek', 'Bacon', 'Leflore', 'Spartanburg', 'Leake', 'Halifax', 'San Luis Obispo', 'Sherburne', 'St. Louis City', 'Harding', 'Tripp', 'Power', 'Rusk', 'Wheeler', 'Washakie', 'Williamson', 'St. Mary', 'Live Oak', 'Hawkins', 'Dale', 'Taney', 'Ware', 'Reeves', 'King George', 'Acadia', 'Gloucester', 'Meeker', 'Catoosa', 'Danville', 'Deuel', 'Hooker', 'Allegan', 'Wallowa', 'Kandiyohi', 'Ottawa', 'Wilbarger', 'Gove', 'Sabine', 'Nemaha', 'Union', 'San Francisco', 'Presidio', 'San Mateo', 'Galveston', 'Goochland', 'Prince Edward', 'Natrona', 'Ballard', 'Santa Rosa', 'Sully', 'Box Butte', 'Fisher', 'Martin', 'Newport News', 'Oneida', 'Pasco', 'Nez Perce', 'Neshoba', 'McDowell', 'Preble', 'Petroleum', 'Mariposa', 'Hyde', 'Dawes', 'Trousdale', 'Ray', 'Bristol Bay', 'Bowie', 'Concordia', 'Cooke', 'Elbert', 'Larimer', 'Nacogdoches', 'Shiawassee', 'Kalamazoo', 'Lowndes', 'Craven', 'Kearney', 'Lincoln', 'Reynolds', 'Flagler', 'Lackawanna', 'Faribault', 'Kent', 'Ada', 'Beltrami', 'Labette', 'Oconee', 'Martinsville', 'Portage', 'Woodward', 'McMinn', 'Southampton', 'Bedford', 'Heard', 'Solano', 'Alamance', 'Racine', 'Cumberland', 'Fremont', 'Highland', 'Newberry', 'Clatsop', 'Windham', 'Burlington', 'Wilkes', 'Mason', 'Pepin', 'Butts', 'Cambria', 'New Haven', 'Dixon', 'Dubuque', 'Montgomery', 'Foster', 'Limestone', 'Hancock', 'Telfair', 'Bullitt', 'Fairfax', 'Rappahannock', 'Terrebonne', 'Skagway', 'Charles City', 'Dickey', 'Bryan', 'Keokuk', 'Edmunds', 'Broward', 'Bear Lake', 'Van Wert', 'Utah', 'Potter', 'Coal', 'Rockdale', 'Colfax', 'Sherman', 'Woodbury', 'Le Sueur', 'McCurtain', 'Shasta', 'Yakutat', 'Napa', 'Chattahoochee', 'Renville', 'Ransom', 'Stone', 'Yazoo', 'Chattooga', 'El Paso', 'Sampson', 'Morton', 'Marshall', 'Matanuska-Susitna', 'Hardin', 'Sebastian', 'Polk', 'Archuleta', 'Lawrence', 'Lafourche', 'Prairie', 'Stutsman', 'Rock', 'Hocking', 'Guadalupe', 'Minidoka', 'Box Elder', 'Alger', 'Duplin', 'Duval', 'Orangeburg', 'Stearns', 'Rutherford', 'Muskingum', 'San Benito', 'Ector', 'Kitsap', 'Jennings', 'Morrow', 'Dearborn', 'Cowlitz', 'Rains', 'Moore', 'Scurry', 'Barry', 'Bertie', 'Washington', 'Otero', 'Kaufman', 'New York City', 'Roscommon', 'Webster', 'Williamsburg', 'Coffey', 'Hampden', 'King William', 'Andrew', 'Terry', 'Mecosta', 'Zavala', 'Dodge', 'Mesa', 'Jewell', 'Morris', 'Kodiak Island', 'Schuylkill', 'Lake and Peninsula', 'Frontier', 'Erath', 'Sweetwater', 'Lamar', 'Pike', 'Sedgwick', 'Geary', 'Del Norte', 'Neosho', 'Providence', 'Covington', 'San Miguel', 'Muskogee', 'Out of UT', 'Rawlins', 'Bennett', 'Clearfield', 'Breathitt', 'Merced', 'Clear Creek', 'Mifflin', 'Pacific', 'Tucker', 'Charlton', 'Skagit', 'Crowley', 'Southeast Fairbanks', 'Madison', 'Bottineau', 'Clarke', 'Houghton', 'Bartow', 'Dimmit', 'Hudson', 'Irwin', 'Miner', 'Taos', 'Burnet', 'Tyrrell', 'Venango', 'Elliott', 'Dallam', 'Kendall', 'Sandusky', 'Sierra', 'Edwards', 'Northwest Arctic', 'Robeson', 'Steele', 'Hampton', 'North Slope', 'Banks', 'Deschutes', 'Coweta', 'Branch', 'Shoshone', 'Coshocton', 'Grant', 'Bienville', 'Culberson', 'Pitkin', 'Lauderdale', 'Fairfield', 'Baker', 'Latah', 'Queens', 'Gates', 'Edgefield', 'Estill', 'Luna', 'Aleutians West', 'Ingham', 'Oliver', 'Harney', 'Merrimack', 'Cortland', 'Dillingham', 'Anderson', 'Lamb', 'Shawano', 'Campbell', 'Noble', 'Appomattox', 'Moultrie', 'McCulloch', 'Roane', 'Umatilla', 'Ste. Genevieve', 'Furnas', 'Brown', 'Twiggs', 'Navarro', 'Kenedy', 'Kay', 'Pasquotank', 'Ionia', 'Wapello', 'De Soto', 'Josephine', 'Kennebec', 'McLennan', 'Crosby', 'Hart', 'Coos', 'Calcasieu', 'Collin', 'Russell', 'Herkimer', 'Calhoun', 'Jay', 'Putnam', 'Lemhi', 'Starke', 'Garrett', 'Craighead', 'Fillmore', 'Lehigh', 'St. Helena', 'Menard', 'Page', 'Mackinac', 'Millard', 'Tooele', 'Peach', 'Houston', 'Riverside', 'Worcester', 'Durham', 'Bandera', 'Cleburne', 'Spotsylvania', 'Haralson', 'Pennington', 'Lee', 'Louisa', 'Gray', 'Bureau', 'Spokane', 'Nodaway', 'Colquitt', 'Assumption', 'King', 'McCook', 'Yellowstone', 'Arlington', 'Rockbridge', 'Loudon', 'Sutton', 'Nome', 'Hood', 'Val Verde', 'Caroline', 'Hinsdale', 'Collingsworth', 'Ford', 'De Baca', 'San Joaquin', 'Mingo', 'Castro', 'Shawnee', 'Van Buren', 'Cherry', 'Cloud', 'Rosebud', 'Powhatan', 'Phelps', 'Real', 'Torrance', 'Autauga', 'Candler', 'Prowers', 'Crane', 'Craig', 'Ozaukee', 'Iberia', 'Mills', 'Forsyth', 'Defiance', 'Leelanau', 'Platte', 'Ouray', 'Susquehanna', 'St. Martin', 'Westchester', 'Osborne', 'Coke', 'Carlisle', 'Howard', 'Forest', 'Gadsden', 'Island', 'Loving', 'Lewis and Clark', 'Ontonagon', 'Harford', 'Greeley', 'Wright', 'Robertson', 'Chester', 'Angelina', 'Newaygo', 'Schleicher', 'Plaquemines', 'Pershing', 'Jo Daviess', 'Boulder', 'Daviess', 'Itasca', 'Audrain', 'Wharton', 'Toole', 'Gregory', 'Pearl River', 'Davie', 'Garland', 'Wakulla', 'Greenwood', 'Prince George', 'Cache', 'Kane', 'Falls', 'Somerset', 'Hanover', 'Burleson', 'Maui', 'Cochran', 'Grundy', 'Mohave', 'Kossuth', 'Newton', 'Avoyelles', 'Bernalillo', 'Lac qui Parle', 'Greenlee', 'Weston', 'Lumpkin', 'Schenectady', 'Freeborn', 'Valencia', 'Fauquier', 'Imperial', 'Broomfield', 'Dundy', 'Quay', 'Calvert', 'Bannock', 'Kingman', 'St. Clair', 'Ashtabula', 'Allamakee', 'Gentry', 'Centre', 'Henderson', 'Cuyahoga', 'Roosevelt', 'Las Animas', 'Allegheny', 'Ventura', 'Cheboygan', 'Caldwell', 'Harrisonburg', 'Kalkaska', 'Snyder', 'Lonoke', 'Anchorage', 'Culpeper', 'Owsley', 'Thurston', 'Le Flore', 'Colusa', 'Seneca', 'Tillman', 'McNairy', 'Eastland', 'Sutter', 'Crockett', 'Early', 'Emmons', 'Alexander', 'Oglala Lakota', 'Falls Church', 'Lenoir', 'Benewah', 'Colleton', 'Fredericksburg', 'Ohio', 'Lorain', 'Carteret', 'Wilson', 'Fayette', 'Garfield', 'Wilkin', 'Missoula', 'Willacy', 'Bond', 'Kenosha', 'Menominee', 'Sanborn', 'Osage', 'Yukon-Koyukuk', 'Beadle', 'Los Angeles', 'Pitt', 'Gwinnett', 'Matagorda', 'Bosque', 'Switzerland', 'Fountain', 'Nance', 'Piatt', 'Redwood', 'Rankin', 'Kings', 'Avery', 'Meagher', 'Lyon', 'Anoka', 'Greenup', 'Rabun', 'Tuscaloosa', 'Wyoming', 'Bingham', 'Dare', 'Outagamie', 'Unassigned', 'Kidder', 'Kanabec', 'Arenac', 'Rensselaer', 'Otsego', 'Waukesha', 'Wichita', 'San Juan', 'Pottawatomie', 'Divide', 'Licking', 'Ashe', 'Desha', 'Alleghany', 'Sequatchie', 'Tolland', 'Jenkins', 'Upton', 'Yankton', 'Traverse', 'Pope', 'Genesee', 'Comanche', 'Vernon', 'Hall', 'Routt', 'St. Landry', 'Ward', 'Cannon', 'Plumas', 'Natchitoches', 'Harvey', 'Cotton', 'Montrose', 'Chicot', 'McCone', 'Scotts Bluff', 'Buffalo', 'Gilmer', 'Onondaga', 'Greer', 'New Castle', 'Breckinridge', 'Cabell', 'Fall River', 'Green Lake', 'Glascock', 'Glynn', 'Minnehaha', 'Caddo', 'Manassas Park', 'Yalobusha', 'Conway', 'St. James', 'Blair', 'Lassen', 'Luzerne', 'Huron', 'Reno', 'Bailey', 'Rice', 'Jerauld', 'Pecos', 'Custer', 'Dubois', 'Brantley', 'Allendale', 'Chisago', 'Sterling', 'Stark', 'Penobscot', 'Gillespie', 'Hickory', 'Yolo', 'Turner', 'Hemphill', 'Pinellas', 'Brule', 'Crittenden', 'Hillsdale', 'Leon', 'Trumbull', 'Grand Forks', 'Eddy', 'Sandoval', 'Dona Ana', 'Maverick', 'Bonner', 'Isanti', 'Wolfe', 'George', 'Delta', 'Winston', 'Ben Hill', 'Lucas', 'Wirt', 'Mountrail', 'Grays Harbor', 'Bastrop', 'Scott', 'Pender', 'Huntington', 'Macoupin', 'Unicoi', 'Wabaunsee', 'Livingston', 'Pontotoc', 'Salt Lake', 'Wagoner', 'Perkins', 'Cattaraugus', 'Judith Basin', 'Santa Fe', 'Skamania', 'Catahoula', 'Meade', 'Dyer', 'Winchester', 'Essex', 'Braxton', 'LaGrange', 'Echols', 'St. Lawrence', 'Idaho', 'Canadian', 'Vanderburgh', 'Lander', 'Dade', 'Glades', 'Meigs', 'Dougherty', 'Vigo', 'Richmond City', 'Multnomah', 'Waupaca', 'New London', 'Bibb', 'Faulk', 'Valdez-Cordova', 'Ross', 'Flathead', 'Miller', 'Arkansas', 'Clallam', 'Winona', 'Thayer', 'Athens', 'Pratt', 'La Crosse', 'Cecil', 'Winn', 'Wicomico', 'Parker', 'Aitkin', 'Charlotte', 'Dent', 'Bristol', 'Isle of Wight', 'Nolan', 'Westmoreland', 'St. Charles', 'Appling', 'Charles', 'Andrews', 'Sarasota', 'Chariton', 'Chatham', 'Pocahontas', 'Jack', 'McKean', 'Tehama', 'Dickens', 'Tipton', 'Indian River', 'Niagara', 'Beckham', 'Grand Isle', 'Chesterfield', 'Uintah', 'Gladwin', 'Faulkner', 'Laurens', 'Iberville', 'Cabarrus', 'Seminole', 'Knox', 'Black Hawk', 'St. Francois', 'Camp', 'Wake', 'DeSoto', 'Crenshaw', 'Tallahatchie', 'McKenzie', 'St. Joseph', 'Blue Earth', 'Howell', 'Decatur', 'Trimble', 'Motley', 'Contra Costa', 'Alachua', 'Windsor', 'Palo Alto', 'Ellsworth', 'Oxford', 'Carbon', 'Lake of the Woods', 'Glacier', 'Kootenai', 'Mitchell', 'Milam', 'Screven', 'Finney', 'Golden Valley', 'Winneshiek', 'Brookings', 'Ringgold', 'Transylvania', 'Izard', 'Dewey', 'Sumner', 'San Diego', 'Out of MI', 'Stewart', 'Garvin', 'Moody', 'Pottawattamie', 'Missaukee', 'Beauregard', 'Hendricks', 'Richmond', 'DeKalb', 'Staunton', 'Yakima', 'Asotin', 'Parke', 'Plymouth', 'Allen', 'Franklin', 'Norman', 'Dillon', 'Oscoda', 'Massac', 'Ferry', 'Muhlenberg', 'Shannon', 'Snohomish', 'Titus', 'Monterey', 'Champaign', 'Barton', 'Big Stone', 'Weber', 'Pierce', 'Cedar', 'Hillsborough', 'Dickenson', 'Day', 'Humboldt', 'Berrien', 'Placer', 'Mayes', 'Churchill', 'Muscatine', 'Mahnomen', 'Mora', 'Oconto', 'Tom Green', 'Stanly', 'Moffat', 'Jasper', 'Pushmataha', 'Winnebago', 'Bolivar', 'Jessamine', 'Watonwan', 'Nye', 'Salem', 'Bayfield', 'Audubon', 'East Baton Rouge', 'Currituck', 'Victoria', 'Douglas', 'Goshen', 'Panola', 'Dixie', 'Sullivan', 'Hertford', 'Wabash', 'Haines', 'Whitfield', 'Leslie', 'LaMoure', 'Sagadahoc', 'Jefferson Davis', 'Throckmorton', 'Hoonah-Angoon', 'Phillips', 'Rockwall', 'Owyhee', 'Norfolk', 'Bowman', 'Waldo', 'Roberts', 'Sublette', 'Dickinson', 'New Hanover', 'Sargent', 'Escambia', 'Dutchess', 'Ochiltree', 'Alcorn', 'Kanawha', 'Suffolk', 'Hidalgo', 'Kewaunee', 'Ziebach', 'Barbour', 'Bartholomew', 'Sauk', 'Cherokee', 'Cobb', 'Adair', 'Jones', 'Bethel', 'Lancaster', 'Darlington', 'Ramsey', 'Washoe', 'Bremer', 'Hood River', 'Haskell', 'Bossier', \"St. Mary's\", 'Ketchikan Gateway', 'Warren', 'Mercer', 'Saratoga', 'Uvalde', 'Mendocino', 'Bonneville', 'Baxter', 'Rapides', 'Richardson', 'Hendry', 'Person', 'Daniels', 'Cheatham', 'Summit', 'Huerfano', 'Chouteau', 'Trinity', 'Blackford', 'Rock Island', 'Tillamook', 'Schley', 'Fergus', 'Geneva', 'Clinton', 'Fairfax City', 'Denver', 'Wexford', 'Taylor', 'Nassau', 'Llano', 'Chippewa', 'Esmeralda', 'Bucks', 'Pondera', 'San Jacinto', 'Davidson', 'Freestone', 'Becker', 'Nobles', 'Gasconade', 'Lapeer', 'Delaware', 'Cassia', 'Harmon', 'Etowah', 'Coconino', 'Logan', 'Treutlen', 'Bledsoe', 'Hodgeman', 'St. Francis', 'Klickitat', 'Bourbon', 'Isabella', 'Carter', 'Palm Beach', 'Drew', 'Vermillion', 'Spink', 'Whiteside', 'Gaston', 'Augusta', 'Fleming', 'Ogle', 'Treasure', 'Waseca', 'Camden', 'Storey', 'Woodford', 'Rhea', 'Codington', 'Coles', 'Foard', 'Holmes', 'Hettinger', 'Baca', 'Baltimore City', 'Tishomingo', 'Pembina', 'Apache', 'Van Zandt', 'Alpena', 'Montezuma', 'Colonial Heights', 'Barren', 'Out of TN', 'McMullen', 'Bulloch', 'Stanley', 'Laclede', 'Clay', 'Franklin City', 'Red Lake', 'McDonough', 'Graves', 'Fort Bend', 'Pettis', 'Schoolcraft', 'Teller', 'Caledonia', 'Gallatin', 'Ocean', 'Towner', 'Baylor', 'Caribou', 'Irion', 'Rutland', 'Pine', 'Crawford', 'Boundary', 'Jim Hogg', 'Okmulgee', 'Karnes', 'Amite', 'Forrest', 'Poquoson', 'Conecuh', 'Teton', 'Barnstable', 'Cowley', 'Calumet', 'Parmer', 'Langlade', 'Cleveland', 'Winkler', 'Hoke', 'Towns', 'Clackamas', 'Chemung', 'Hot Springs', 'Stafford', 'Lamoille', 'Ouachita', 'Beaufort', 'Daggett', 'Toombs', 'Yuma', 'Iowa', 'Eagle', 'Wilcox', 'Borden', 'Gilpin', 'Hartley', 'San Bernardino', 'Goodhue', 'Larue', 'La Plata', 'Pendleton', 'Ravalli', 'Chaffee', 'Catron', 'Sacramento', 'Dane', 'Boone', 'Nevada', 'Haywood', 'Oklahoma', 'Bell', 'Rockcastle', 'Arthur', 'Greenbrier', 'Kern', 'Orleans', 'Mellette', 'Benton', 'McLean', 'Fluvanna', 'Kenton', 'Barnes', 'Tama', 'Socorro', 'Deer Lodge', 'Briscoe', 'Wilkinson', 'Juneau', 'Pointe Coupee', 'Cass', 'Muskegon', 'Pipestone', 'Kinney', 'Bollinger', 'Montour', 'Menifee', 'Anson', 'Sioux', 'Hansford', 'Effingham', 'Charlottesville', 'Lipscomb', 'Armstrong', 'Kiowa', 'Aransas', 'Rio Blanco', 'Emporia', 'Rush', 'Gooding', 'Portsmouth', 'Tulare', 'Carver', 'Lynn', 'Clare', 'Red Willow', 'Indiana', 'Lanier', 'Guthrie', 'Yamhill', 'Smith', 'Todd', 'Preston', 'Alfalfa', 'Stonewall', 'Broadwater', 'Hunt', 'Itawamba', 'Trempealeau', 'Nicholas', 'Warrick', 'Radford', 'Long', 'Presque Isle', 'Tuscarawas', 'Berkshire', 'Cimarron', 'Doña Ana', 'Corson', 'Atchison', 'Jerome', 'Swain', 'Baraga', 'Ralls', 'Chittenden', 'Quitman', 'Doddridge', 'Independence', 'Atoka', 'El Dorado', 'Marinette', 'Juniata', 'Hunterdon', 'LaPorte', 'Miami', 'Hutchinson', 'Wrangell', 'Wyandot', 'Walsh', 'Rowan', 'Rich', 'Nuckolls', 'Washburn', 'Haakon', 'Yuba', 'Waynesboro', 'Benzie', 'Mono', 'Norton', 'Webb', 'Grainger', 'Crow Wing', 'Sanilac', 'Jersey', 'Jackson', 'Maury', 'Concho', 'Santa Cruz', 'Metcalfe', 'Refugio', 'Cochise', 'Macomb', 'Tioga', 'Clayton', 'Worth', 'San Saba', 'Rockingham', 'Maries', 'Rio Grande', 'Hopewell', 'Kalawao', 'Petersburg', 'Crook', 'Uinta', 'Addison', 'Jim Wells', 'Atkinson', 'Gratiot', 'Kankakee', 'Sunflower', 'Wise', 'Williams', 'Lexington', 'Boise', 'Barnwell', 'Elk', 'Marlboro', 'Accomack', 'Stephenson', 'Iroquois', 'Tippah', 'Stevens', 'Simpson', 'Copiah', 'Denali', 'Clark', 'Charlevoix', 'Coffee', 'Deaf Smith', 'Dorchester', 'Wallace', 'Terrell', 'Cascade', 'Austin', 'Waller', 'Watauga', 'Grafton', 'Bee', 'Hopkins', 'Manassas', 'Aleutians East', 'Graham', 'Prentiss', 'Edgecombe', 'Pittsburg', 'Loup', 'Onslow', 'Kenai Peninsula', 'Gogebic', 'Swift', 'Taliaferro', 'Upshur', 'District of Columbia', 'Riley', 'Hughes', 'Hays', 'Dickson', 'Patrick', 'McDonald', 'Lebanon', 'Elkhart', 'Marquette', 'Hickman', 'Ripley', 'Thomas', 'Traill', 'Fairbanks North Star', 'Stephens', 'Iosco', 'Gallia', 'Kingfisher', 'Sarpy', 'Nash', 'DuPage', 'McCracken', 'Bent', 'Gila', 'McPherson', 'Tangipahoa', 'Kearny', 'Payne', 'Sheboygan', 'Lyman', 'Cocke', 'Citrus', 'Kittson', 'Pickett', 'Cape May', 'Stanislaus', 'Glasscock', 'Gulf', 'Mower', 'Kershaw', 'Clarendon', 'Santa Barbara', 'Erie', 'Yadkin', 'Pamlico', 'Dukes', 'Chelan', 'Archer', 'Monroe', 'Grimes', 'Grand', 'Burleigh', 'Modoc', 'Tattnall', 'Silver Bow', 'Hernando', 'Wibaux', 'Yates', 'Wheatland', 'Alpine', 'Bath', 'Boyd', 'Otoe', 'Levy', 'Granite', 'Red River', 'Walton', 'Oakland', 'Sac', 'Jeff Davis', 'Hamblen', 'Canyon', 'Harnett', 'Pleasants', 'Fulton', 'Obion', 'Lake', 'Twin Falls', 'Marengo', 'Carson City', 'Saluda', 'Texas', 'Swisher', 'Hudspeth', 'Dawson', 'Allegany', 'Burke', 'Park', 'Prince of Wales-Hyder', 'Walker', 'Hennepin', 'Bon Homme', 'Charles Mix', 'Charleston', 'Denton', 'Mille Lacs', 'Tyler', 'Ogemaw', 'Benson', 'West Carroll', 'Georgetown', 'Sanders', 'Wood', 'Monmouth', 'Stanton', 'Burt', 'Okfuskee', 'James City', 'Jefferson', 'Iron', 'Gonzales', 'Hill', 'Randall', 'Hubbard', 'Cavalier', 'Collier', 'Lampasas', 'Bates', 'Choctaw', 'Hamlin', 'Pickaway', 'Columbia', 'Coosa', 'Blount', 'Frederick', 'Lea', 'Eaton', 'Linn', 'Santa Clara', 'Cooper', 'Alamosa', 'Koochiching', 'Comal', 'Barrow', 'Chaves', 'Cheyenne', 'White', 'Woods', 'Scotland', 'Sharp', 'Coahoma', 'Volusia', 'Hampshire', 'McHenry', 'Kauai', 'Okeechobee', 'Cape Girardeau', 'Auglaize', 'Banner', 'Donley', 'Ness', 'Albemarle', 'Aroostook', 'Wells', 'Sawyer', 'Cerro Gordo', 'Elmore', 'Chautauqua', 'Appanoose', 'West Baton Rouge', 'Piute', 'Smyth', 'Rio Arriba', 'Doniphan', 'Will', 'Childress', 'Lubbock', 'Green', 'Fallon', 'Berkeley', 'Clermont', 'Pawnee', 'Hale', 'Sharkey', 'Manitowoc', 'Dooly', 'Moniteau', 'Ida', 'Hardy', 'Yoakum', 'Talladega', 'Ashley', 'Cheshire', 'Hanson', 'Hayes', 'Mineral', 'Iredell', 'McLeod', 'Roger Mills', 'McCormick', 'St. Johns', 'Powder River', 'Belmont', 'Tallapoosa', 'Oglethorpe', 'Pickens', 'Laramie', 'Tuscola', 'Lenawee', 'Marathon', 'Montcalm', 'Somervell', 'Liberty', 'Amherst', 'Kingsbury', 'Buncombe', 'Murray', 'Clinch', 'Leavenworth', 'Suwannee', 'Duchesne', 'Kittitas', 'Arapahoe', 'Sussex', 'Big Horn', 'Clarion', 'Fannin', 'Bracken', 'Butte', 'Sanpete', 'Albany', 'San Augustine', 'Trego', 'Rooks', 'Oktibbeha', 'Morgan', 'Oldham', 'Davison', 'Grady', 'Whatcom', 'Gaines', 'Cottonwood', 'Tompkins', 'Ulster', 'Vermilion', 'Door', 'Johnston', 'Sitka', 'Runnels', 'Shelby', 'Chesapeake', 'Lavaca', 'Wetzel', 'Atascosa', 'Hamilton', 'Bay', 'Clearwater', 'Tunica', 'Young', 'Rockland', 'Posey', 'Wasco', 'Hot Spring', 'Cuming', 'Bamberg', 'Blaine', 'Conejos', 'Manatee', 'Pinal', 'Colorado', 'Antrim', 'Cole', 'Lunenburg', 'St. John the Baptist', 'Otter Tail', 'Hand', 'Brunswick', 'Catawba', 'De Witt', 'Virginia Beach', 'McClain', 'Nueces', 'Androscoggin', 'Callahan', 'McCreary', 'Malheur', 'Peoria', 'Casey', 'Bullock', 'Little River', 'Miami-Dade', 'Tazewell', 'Osceola', 'Bleckley', 'Saunders', 'Garza', 'Baltimore', 'Chase', 'Bennington', 'Ozark', 'Blanco', 'Gordon', 'Meriwether', 'Belknap', 'Humphreys', 'Newport', 'Carlton', 'Litchfield', 'Pemiscot', 'Reagan', 'West Feliciana', 'Keya Paha', 'Poweshiek', 'Evans', 'Geauga', 'Sequoyah', 'Price', 'Yancey', 'Piscataquis', 'Pima', 'Okaloosa', 'Columbiana', 'Keweenaw', 'Coryell', 'Chilton', 'Buchanan', 'Poinsett', 'Maricopa', 'McDuffie', 'Galax', 'Weld', 'Trigg', 'Davis', 'Powell', 'Emery', 'Greene', 'Middlesex', 'Bladen', 'Tippecanoe', 'Guernsey', 'Ashland', 'Slope', 'Weakley', 'Lewis', 'Greensville', 'Giles', 'Brazoria', 'Dinwiddie', 'Emanuel', 'Luce', 'Mobile', 'Amador', \"O'Brien\", 'McKinley', 'Barron', 'Brazos', 'Manistee', 'Pend Oreille', 'Billings', 'Nantucket', 'Randolph', 'Northampton', 'Woodson', 'Los Alamos', 'Knott', 'Valley', 'Gilchrist', 'Guilford', 'Atlantic', 'Hempstead', 'Shenandoah', 'Roseau', 'McIntosh', 'Eureka', \"Prince George's\", 'Cayuga', 'Sheridan', 'Burnett', 'Schuyler', 'Lane', 'Kit Carson', 'Grand Traverse', 'Frio', 'Saline', 'Griggs', 'Pulaski', 'Sumter', 'Antelope', 'Cross', 'Alameda', 'New Kent', 'Kosciusko', 'Tift', 'Granville', 'Gibson', 'York', 'Troup', 'Coleman', 'New Madrid', 'Musselshell', 'Starr', 'East Feliciana', 'Porter', 'Habersham', 'Laurel', 'Montmorency', 'Noxubee', 'Boyle', 'Emmet', 'Prince William', 'Goliad', 'Henry', 'Dukes and Nantucket', 'Harris', 'Kansas City', 'Sangamon', 'Huntingdon', 'Edgar', 'Hardee', 'Ellis', 'Calaveras', 'Alcona', 'Republic', 'Buena Vista', 'Edmonson', 'Fentress', 'Dunn', 'Amelia', 'Grayson', 'Costilla', 'Kimball', 'Bradley', 'Morehouse', 'Gosper', 'Yell', 'Cibola', 'Floyd', 'Washita', 'Horry', 'East Carroll', 'Wabasha', 'Mississippi'])"
      ]
     },
     "execution_count": 59,
     "metadata": {},
     "output_type": "execute_result"
    }
   ],
   "source": [
    "county_country.keys()"
   ]
  },
  {
   "cell_type": "code",
   "execution_count": 60,
   "metadata": {},
   "outputs": [
    {
     "data": {
      "text/plain": [
       "'South Carolina'"
      ]
     },
     "execution_count": 60,
     "metadata": {},
     "output_type": "execute_result"
    }
   ],
   "source": [
    "latest_data[latest_data[\"Admin2\"] == \"Abbeville\"][\"Province_State\"].values[0]"
   ]
  },
  {
   "cell_type": "code",
   "execution_count": null,
   "metadata": {},
   "outputs": [],
   "source": []
  },
  {
   "cell_type": "code",
   "execution_count": 63,
   "metadata": {},
   "outputs": [],
   "source": [
    "county_data = {}\n",
    "for county in county_country.keys():\n",
    "    daily_confirmed_for_county = {}\n",
    "    for date in dates:\n",
    "        try:\n",
    "            daily_confirmed = dataframes[date][dataframes[date][\"Admin2\"] == county].Confirmed.sum()\n",
    "        except KeyError:\n",
    "            daily_confirmed = 0\n",
    "        daily_confirmed_for_county[date] = daily_confirmed\n",
    "    county_data[county] = daily_confirmed_for_county"
   ]
  },
  {
   "cell_type": "code",
   "execution_count": 65,
   "metadata": {},
   "outputs": [
    {
     "data": {
      "text/plain": [
       "<matplotlib.figure.Figure at 0x7ffdb3c099b0>"
      ]
     },
     "metadata": {},
     "output_type": "display_data"
    }
   ],
   "source": [
    "for county, title in county_country.items():\n",
    "    plot_figure(county_data[county], title, \"County_or_City\")"
   ]
  },
  {
   "cell_type": "code",
   "execution_count": null,
   "metadata": {},
   "outputs": [],
   "source": []
  }
 ],
 "metadata": {
  "kernelspec": {
   "display_name": "py36",
   "language": "python",
   "name": "py36"
  },
  "language_info": {
   "codemirror_mode": {
    "name": "ipython",
    "version": 3
   },
   "file_extension": ".py",
   "mimetype": "text/x-python",
   "name": "python",
   "nbconvert_exporter": "python",
   "pygments_lexer": "ipython3",
   "version": "3.6.2"
  }
 },
 "nbformat": 4,
 "nbformat_minor": 2
}
