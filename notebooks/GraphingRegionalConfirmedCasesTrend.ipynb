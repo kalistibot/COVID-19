{
 "cells": [
  {
   "cell_type": "code",
   "execution_count": 1,
   "metadata": {},
   "outputs": [],
   "source": [
    "import pandas as pd\n",
    "import os\n",
    "import numpy as np\n",
    "import matplotlib.pyplot as plt\n",
    "import matplotlib.dates as mdates\n",
    "import datetime as dt\n",
    "from pathlib import Path"
   ]
  },
  {
   "cell_type": "code",
   "execution_count": 2,
   "metadata": {},
   "outputs": [],
   "source": [
    "% matplotlib inline"
   ]
  },
  {
   "cell_type": "code",
   "execution_count": 3,
   "metadata": {},
   "outputs": [],
   "source": [
    "\n",
    "files = os.listdir(\"../csse_covid_19_data/csse_covid_19_daily_reports/\")"
   ]
  },
  {
   "cell_type": "code",
   "execution_count": 4,
   "metadata": {},
   "outputs": [],
   "source": [
    "files = [f for f in files if f[0] == '0' ]"
   ]
  },
  {
   "cell_type": "code",
   "execution_count": 5,
   "metadata": {},
   "outputs": [],
   "source": [
    "files.sort()\n",
    "dates = [d[:-4] for d in files]"
   ]
  },
  {
   "cell_type": "code",
   "execution_count": 6,
   "metadata": {},
   "outputs": [
    {
     "data": {
      "text/plain": [
       "['01-22-2020',\n",
       " '01-23-2020',\n",
       " '01-24-2020',\n",
       " '01-25-2020',\n",
       " '01-26-2020',\n",
       " '01-27-2020',\n",
       " '01-28-2020',\n",
       " '01-29-2020',\n",
       " '01-30-2020',\n",
       " '01-31-2020',\n",
       " '02-01-2020',\n",
       " '02-02-2020',\n",
       " '02-03-2020',\n",
       " '02-04-2020',\n",
       " '02-05-2020',\n",
       " '02-06-2020',\n",
       " '02-07-2020',\n",
       " '02-08-2020',\n",
       " '02-09-2020',\n",
       " '02-10-2020',\n",
       " '02-11-2020',\n",
       " '02-12-2020',\n",
       " '02-13-2020',\n",
       " '02-14-2020',\n",
       " '02-15-2020',\n",
       " '02-16-2020',\n",
       " '02-17-2020',\n",
       " '02-18-2020',\n",
       " '02-19-2020',\n",
       " '02-20-2020',\n",
       " '02-21-2020',\n",
       " '02-22-2020',\n",
       " '02-23-2020',\n",
       " '02-24-2020',\n",
       " '02-25-2020',\n",
       " '02-26-2020',\n",
       " '02-27-2020',\n",
       " '02-28-2020',\n",
       " '02-29-2020',\n",
       " '03-01-2020',\n",
       " '03-02-2020',\n",
       " '03-03-2020',\n",
       " '03-04-2020',\n",
       " '03-05-2020',\n",
       " '03-06-2020',\n",
       " '03-07-2020',\n",
       " '03-08-2020',\n",
       " '03-09-2020',\n",
       " '03-10-2020',\n",
       " '03-11-2020',\n",
       " '03-12-2020',\n",
       " '03-13-2020',\n",
       " '03-14-2020',\n",
       " '03-15-2020',\n",
       " '03-16-2020',\n",
       " '03-17-2020',\n",
       " '03-18-2020',\n",
       " '03-19-2020',\n",
       " '03-20-2020',\n",
       " '03-21-2020',\n",
       " '03-22-2020',\n",
       " '03-23-2020',\n",
       " '03-24-2020',\n",
       " '03-25-2020',\n",
       " '03-26-2020']"
      ]
     },
     "execution_count": 6,
     "metadata": {},
     "output_type": "execute_result"
    }
   ],
   "source": [
    "dates"
   ]
  },
  {
   "cell_type": "code",
   "execution_count": 7,
   "metadata": {},
   "outputs": [],
   "source": [
    "dataframes = {}\n",
    "\n",
    "for f,d in zip(files,dates):\n",
    "    df = pd.read_csv(\"../csse_covid_19_data/csse_covid_19_daily_reports/\"+ f)\n",
    "    dataframes[d] = df"
   ]
  },
  {
   "cell_type": "code",
   "execution_count": 8,
   "metadata": {},
   "outputs": [
    {
     "data": {
      "text/plain": [
       "dict_keys(['01-22-2020', '01-23-2020', '01-24-2020', '01-25-2020', '01-26-2020', '01-27-2020', '01-28-2020', '01-29-2020', '01-30-2020', '01-31-2020', '02-01-2020', '02-02-2020', '02-03-2020', '02-04-2020', '02-05-2020', '02-06-2020', '02-07-2020', '02-08-2020', '02-09-2020', '02-10-2020', '02-11-2020', '02-12-2020', '02-13-2020', '02-14-2020', '02-15-2020', '02-16-2020', '02-17-2020', '02-18-2020', '02-19-2020', '02-20-2020', '02-21-2020', '02-22-2020', '02-23-2020', '02-24-2020', '02-25-2020', '02-26-2020', '02-27-2020', '02-28-2020', '02-29-2020', '03-01-2020', '03-02-2020', '03-03-2020', '03-04-2020', '03-05-2020', '03-06-2020', '03-07-2020', '03-08-2020', '03-09-2020', '03-10-2020', '03-11-2020', '03-12-2020', '03-13-2020', '03-14-2020', '03-15-2020', '03-16-2020', '03-17-2020', '03-18-2020', '03-19-2020', '03-20-2020', '03-21-2020', '03-22-2020', '03-23-2020', '03-24-2020', '03-25-2020', '03-26-2020'])"
      ]
     },
     "execution_count": 8,
     "metadata": {},
     "output_type": "execute_result"
    }
   ],
   "source": [
    "dataframes.keys()"
   ]
  },
  {
   "cell_type": "code",
   "execution_count": 9,
   "metadata": {},
   "outputs": [],
   "source": [
    "from datetime import date, datetime, timedelta"
   ]
  },
  {
   "cell_type": "code",
   "execution_count": 10,
   "metadata": {},
   "outputs": [],
   "source": [
    "today = datetime.strftime(date.today(),'%m-%d-%Y')\n"
   ]
  },
  {
   "cell_type": "code",
   "execution_count": 11,
   "metadata": {},
   "outputs": [],
   "source": [
    "if today not in dataframes.keys():\n",
    "    yesterday = datetime.strftime(date.today() - timedelta(1),'%m-%d-%Y')"
   ]
  },
  {
   "cell_type": "code",
   "execution_count": 12,
   "metadata": {},
   "outputs": [],
   "source": [
    "try:\n",
    "    latest_data = dataframes[today]\n",
    "except KeyError:\n",
    "    latest_data = dataframes[yesterday]"
   ]
  },
  {
   "cell_type": "code",
   "execution_count": 13,
   "metadata": {},
   "outputs": [],
   "source": [
    "states = set(latest_data[\"Province_State\"].tolist())"
   ]
  },
  {
   "cell_type": "code",
   "execution_count": 14,
   "metadata": {},
   "outputs": [],
   "source": [
    "try:\n",
    "    states.remove(np.nan)\n",
    "except KeyError:\n",
    "    pass"
   ]
  },
  {
   "cell_type": "code",
   "execution_count": 15,
   "metadata": {},
   "outputs": [
    {
     "data": {
      "text/plain": [
       "Index(['FIPS', 'Admin2', 'Province_State', 'Country_Region', 'Last_Update',\n",
       "       'Lat', 'Long_', 'Confirmed', 'Deaths', 'Recovered', 'Active',\n",
       "       'Combined_Key'],\n",
       "      dtype='object')"
      ]
     },
     "execution_count": 15,
     "metadata": {},
     "output_type": "execute_result"
    }
   ],
   "source": [
    "\n",
    "\n",
    "\n",
    "\n",
    "latest_data.columns"
   ]
  },
  {
   "cell_type": "code",
   "execution_count": 16,
   "metadata": {},
   "outputs": [],
   "source": [
    "texas_2020_03_24 =  dataframes['03-23-2020'][dataframes['03-23-2020'][\"Province_State\"] == \"Texas\"].Confirmed.sum()"
   ]
  },
  {
   "cell_type": "code",
   "execution_count": 17,
   "metadata": {},
   "outputs": [
    {
     "data": {
      "text/plain": [
       "758"
      ]
     },
     "execution_count": 17,
     "metadata": {},
     "output_type": "execute_result"
    }
   ],
   "source": [
    "texas_2020_03_24"
   ]
  },
  {
   "cell_type": "code",
   "execution_count": 18,
   "metadata": {},
   "outputs": [],
   "source": [
    "countries = set(latest_data[\"Country_Region\"].tolist())"
   ]
  },
  {
   "cell_type": "code",
   "execution_count": 19,
   "metadata": {},
   "outputs": [],
   "source": [
    "try:\n",
    "    countries.remove(np.nan)\n",
    "except KeyError:\n",
    "    pass\n"
   ]
  },
  {
   "cell_type": "code",
   "execution_count": 20,
   "metadata": {},
   "outputs": [],
   "source": [
    "state_data = {}\n",
    "for state in states:\n",
    "    daily_confirmed_for_state = {}\n",
    "    for date in dates:\n",
    "        try:\n",
    "            daily_confirmed = dataframes[date][dataframes[date][\"Province_State\"] == state].Confirmed.sum()\n",
    "        except KeyError:\n",
    "            daily_confirmed = dataframes[date][dataframes[date][\"Province/State\"] == state].Confirmed.sum()    \n",
    "        daily_confirmed_for_state[date] = daily_confirmed\n",
    "    state_data[state] = daily_confirmed_for_state"
   ]
  },
  {
   "cell_type": "code",
   "execution_count": 21,
   "metadata": {},
   "outputs": [],
   "source": [
    "country_data = {}\n",
    "for country in countries:\n",
    "    daily_confirmed_for_country = {}\n",
    "    for date in dates:\n",
    "        try:\n",
    "            daily_confirmed = dataframes[date][dataframes[date][\"Country_Region\"] == country].Confirmed.sum()\n",
    "        except KeyError:\n",
    "            daily_confirmed = dataframes[date][dataframes[date][\"Country/Region\"] == country].Confirmed.sum()    \n",
    "        daily_confirmed_for_country[date] = daily_confirmed\n",
    "    country_data[country] = daily_confirmed_for_country"
   ]
  },
  {
   "cell_type": "code",
   "execution_count": 22,
   "metadata": {},
   "outputs": [],
   "source": [
    "import matplotlib.pyplot as plt\n",
    "import matplotlib.dates as mdates\n",
    "import datetime as dt\n",
    "from pathlib import Path"
   ]
  },
  {
   "cell_type": "code",
   "execution_count": 23,
   "metadata": {},
   "outputs": [],
   "source": [
    "\n",
    "os.makedirs(\"../graphs/Country_Region/\"+ today, exist_ok=True) \n",
    "os.makedirs(\"../graphs/State_Province/\"+ today, exist_ok=True) \n",
    "os.makedirs(\"../graphs/County_or_City/\"+ today, exist_ok=True) \n",
    "\n",
    "\n"
   ]
  },
  {
   "cell_type": "code",
   "execution_count": 28,
   "metadata": {},
   "outputs": [],
   "source": [
    "def plot_figure(daily_totals, title, directory):\n",
    "    dates = list(daily_totals.keys())\n",
    "    x = [dt.datetime.strptime(d,'%m-%d-%Y').date() for d in dates]\n",
    "    y = []\n",
    "    for d in daily_totals.values():\n",
    "        try:\n",
    "            y.append(int(d))\n",
    "        except ValueError:\n",
    "            y.append(0)\n",
    "            \n",
    "    if y[-1] > 100:   # if there are more than 100 confirmed cases in the latest data\n",
    "                      # strip dates with 10 or less cases \n",
    "        x, y = remove_less_than_10_days(x,y)\n",
    "    else:             # if there are less than 100 confirmed cases, just strip dates with zero cases\n",
    "        x, y = remove_zero_days(x,y)\n",
    "    \n",
    "    plt.suptitle(title)\n",
    "    plt.figure(figsize=(30,10))\n",
    "    plt.gca().xaxis.set_major_formatter(mdates.DateFormatter('%m-%d-%Y'))\n",
    "    plt.gca().xaxis.set_major_locator(mdates.DayLocator())\n",
    "    #ax.yaxis.set_label_position(\"right\")\n",
    "    #ax.yaxis.tick_right()\n",
    "    if len(x) < 2:\n",
    "        plt.close()\n",
    "        return\n",
    "    plt.plot(x, y)\n",
    "    plt.gcf().autofmt_xdate()\n",
    "    plt.savefig(\"../graphs/\"+directory+ \"/\" +today +\"/\"+title + \".png\")\n",
    "    plt.close()\n",
    " "
   ]
  },
  {
   "cell_type": "code",
   "execution_count": 29,
   "metadata": {},
   "outputs": [],
   "source": [
    "def remove_less_than_10_days(x,y ):\n",
    "    first_case = 0\n",
    "    for value in y:\n",
    "        if value < 11:\n",
    "            first_case += 1\n",
    "        else:\n",
    "            break\n",
    "    return x[first_case:], y[first_case:]\n",
    "    "
   ]
  },
  {
   "cell_type": "code",
   "execution_count": 30,
   "metadata": {},
   "outputs": [],
   "source": [
    "def remove_zero_days(x, y):\n",
    "    first_case = 0\n",
    "    for value in y:\n",
    "        if value < 1:\n",
    "            first_case += 1\n",
    "        else:\n",
    "            break\n",
    "            \n",
    "    return x[first_case:], y[first_case:]\n",
    "    \n",
    "    "
   ]
  },
  {
   "cell_type": "code",
   "execution_count": 31,
   "metadata": {},
   "outputs": [
    {
     "data": {
      "text/plain": [
       "<matplotlib.figure.Figure at 0x7f93153ac898>"
      ]
     },
     "metadata": {},
     "output_type": "display_data"
    }
   ],
   "source": [
    "for country in country_data.keys():\n",
    "    plot_figure(country_data[country], country, \"Country_Region\")"
   ]
  },
  {
   "cell_type": "code",
   "execution_count": 32,
   "metadata": {},
   "outputs": [
    {
     "data": {
      "text/plain": [
       "<matplotlib.figure.Figure at 0x7f92c41bcf60>"
      ]
     },
     "metadata": {},
     "output_type": "display_data"
    }
   ],
   "source": [
    "for state in state_data.keys():\n",
    "    plot_figure(state_data[state], state,\"State_Province\")"
   ]
  },
  {
   "cell_type": "code",
   "execution_count": 33,
   "metadata": {},
   "outputs": [
    {
     "data": {
      "text/plain": [
       "Index(['FIPS', 'Admin2', 'Province_State', 'Country_Region', 'Last_Update',\n",
       "       'Lat', 'Long_', 'Confirmed', 'Deaths', 'Recovered', 'Active',\n",
       "       'Combined_Key'],\n",
       "      dtype='object')"
      ]
     },
     "execution_count": 33,
     "metadata": {},
     "output_type": "execute_result"
    }
   ],
   "source": [
    "latest_data.columns"
   ]
  },
  {
   "cell_type": "code",
   "execution_count": 34,
   "metadata": {},
   "outputs": [],
   "source": [
    "county_counties = set(latest_data[\"Admin2\"].tolist())"
   ]
  },
  {
   "cell_type": "code",
   "execution_count": 35,
   "metadata": {},
   "outputs": [],
   "source": [
    "try:\n",
    "    county_counties.remove(np.nan)\n",
    "except KeyErorr:\n",
    "    pass"
   ]
  },
  {
   "cell_type": "code",
   "execution_count": 36,
   "metadata": {},
   "outputs": [],
   "source": [
    "county_country = {}\n",
    "for county in county_counties:\n",
    "    county_country[county] = latest_data[latest_data[\"Admin2\"] == county][\"Combined_Key\"].values[0]"
   ]
  },
  {
   "cell_type": "code",
   "execution_count": 37,
   "metadata": {},
   "outputs": [
    {
     "data": {
      "text/plain": [
       "dict_keys(['Atchison', 'Emmons', 'Montgomery', 'Cache', 'Chambers', 'Jessamine', 'McCormick', 'Perry', 'Stephenson', 'Greenwood', 'Lander', 'Jo Daviess', 'Eau Claire', 'Camas', 'Niobrara', 'Cape May', 'Bamberg', 'Boyd', 'Ector', 'Thayer', 'Wirt', 'Allen', 'Bladen', 'Mower', 'Charles', 'Twin Falls', 'Crisp', 'Chesterfield', 'Hoonah-Angoon', 'LaGrange', 'Rooks', 'Early', 'Sauk', 'Ouray', 'Ogemaw', 'Missoula', 'Winneshiek', 'Schuylkill', 'Santa Clara', 'Clarke', 'Quay', 'Clearwater', 'Del Norte', 'Pawnee', 'Alpine', 'Person', 'Sangamon', 'Nez Perce', 'Foard', 'Barnes', 'Lebanon', 'Chemung', 'Crosby', 'Durham', 'Crane', 'Coos', 'Surry', 'Hudspeth', 'Tooele', 'Warrick', 'Sherburne', 'Huntington', 'Spokane', 'New Madrid', 'Gasconade', 'Evans', 'Antrim', 'Contra Costa', 'LaMoure', 'Power', 'Slope', 'Wabasha', 'Kearny', 'Kalawao', 'Loup', 'Williamson', 'Wilcox', 'Bienville', 'Cochise', 'Benton', 'Bourbon', 'Jones', 'Hughes', 'Washington', 'Summit', 'Bexar', 'Tyrrell', 'Whitley', 'Christian', 'Augusta', 'Garvin', 'Banner', 'Navarro', 'Yell', 'Collin', 'Fresno', 'Dubois', 'Matagorda', 'Dooly', 'Bronx', 'Golden Valley', 'Twiggs', 'Frederick', 'Montezuma', 'Gillespie', 'Prince Edward', 'Clark', 'Luna', 'Cass', 'Amador', 'Tioga', 'Northumberland', 'Wheeler', 'Fort Bend', 'Dearborn', 'Mifflin', 'Dallam', 'Toole', 'Keith', 'Sheboygan', 'Yolo', 'Towner', 'Weber', 'Linn', 'Johnson', 'Clarendon', 'Coffee', 'Woodford', 'Cowlitz', 'Winona', 'Columbia', 'Dixon', 'Talbot', 'Cumberland', 'Arlington', 'Solano', 'McClain', 'Vermilion', 'McPherson', 'San Benito', 'Fillmore', 'Franklin City', 'Penobscot', 'Caledonia', 'Dinwiddie', 'Hardy', 'Posey', 'Muscatine', 'Walla Walla', 'Walsh', 'San Jacinto', 'St. Tammany', 'Alexandria', 'Bonneville', 'Oliver', 'Costilla', 'Manistee', 'Yukon-Koyukuk', 'Baylor', 'Arthur', 'Currituck', 'Izard', 'Salem', 'Martin', 'Lauderdale', 'Tama', 'Out of UT', 'Strafford', 'Adams', 'Amherst', 'Des Moines', 'Musselshell', 'Rush', 'Scurry', 'Clatsop', 'Kings', 'McCook', 'Passaic', 'Candler', 'DeWitt', 'Estill', 'Sitka', 'Lowndes', 'Marshall', 'Dodge', 'Collingsworth', 'Sac', \"O'Brien\", 'Stevens', 'Hodgeman', 'Canyon', 'McKenzie', 'Reeves', 'Beaufort', 'Worth', 'Colorado', 'Jefferson', 'Buncombe', 'Mingo', 'Putnam', 'Ottawa', 'Elk', 'Deer Lodge', 'Pickaway', 'San Luis Obispo', 'Atkinson', 'Spink', 'Rio Arriba', 'Tazewell', 'Cheshire', 'De Soto', 'Bulloch', 'Ballard', 'Denali', 'Tompkins', 'Castro', 'Minnehaha', 'Tate', 'Charlevoix', 'Gordon', 'Philadelphia', 'Torrance', 'Oconto', 'Sheridan', 'Vilas', 'Horry', 'Missaukee', 'Stonewall', 'Seward', 'Glasscock', 'Wood', 'Fallon', 'Pennington', 'Grays Harbor', 'Pershing', 'Humphreys', 'Stewart', 'Patrick', 'Upshur', 'Bingham', 'Racine', 'Northwest Arctic', 'Kimble', 'Olmsted', 'Alameda', 'Newport News', 'Crowley', 'Auglaize', 'Saratoga', 'Yoakum', 'Dakota', 'King and Queen', 'Mathews', 'Colonial Heights', 'Eddy', 'Miller', 'Keya Paha', 'Yadkin', 'Brevard', 'Valdez-Cordova', 'Pueblo', 'Howell', 'Knott', 'Eagle', 'Stanly', 'Grady', 'Jasper', 'Parke', 'Clinton', 'Vigo', 'Phillips', 'Lake and Peninsula', 'Cimarron', 'Leake', 'Dyer', 'Upton', 'Mahnomen', 'Dukes', 'Benzie', 'Colquitt', 'Bibb', 'El Dorado', 'Tangipahoa', 'Orangeburg', 'East Baton Rouge', 'Vermillion', 'Richmond City', 'Cuming', 'Richland', 'Heard', 'Cook', 'Becker', 'Champaign', 'Mackinac', 'Tulare', 'Wichita', 'Van Buren', 'Multnomah', 'Otter Tail', 'Daniels', 'Edgar', 'Alamance', 'Yates', 'Meagher', 'Independence', 'Ouachita', 'Catahoula', 'Gratiot', 'Clinch', 'Bon Homme', 'Medina', 'Sarpy', 'Moore', 'Catron', 'Hopkins', 'Wilbarger', 'Treasure', 'Riley', 'Cattaraugus', 'Ashland', 'Bennett', 'Aurora', 'Mariposa', 'Nodaway', 'Rogers', 'Isle of Wight', 'Larimer', 'Lyon', 'St. Johns', 'Woods', 'Runnels', 'Gibson', 'Pearl River', 'Tuscarawas', 'Jerauld', 'Carteret', 'Hawkins', 'Redwood', 'Greenbrier', 'Major', 'Grainger', 'Black Hawk', 'Anderson', 'Jeff Davis', 'Kankakee', 'Alamosa', 'Houston', 'Ohio', 'Dolores', 'Thomas', 'Schuyler', 'Vernon', 'Manatee', 'Washtenaw', 'Wyandotte', 'Palo Alto', 'McMullen', 'Hunt', 'Bureau', 'Fall River', 'Cole', 'Marquette', 'Pike', 'Butte', 'Dimmit', 'Isabella', 'Snohomish', 'Wyoming', 'Hocking', 'Clearfield', 'Alcorn', 'Brantley', 'Tillamook', 'Yakima', 'Curry', 'Pope', 'Orange', 'Sanpete', 'Washoe', 'Sutter', 'Doddridge', 'Ford', 'Issaquena', 'Elliott', 'Atlantic', 'Emmet', 'Yamhill', 'Perquimans', 'Sandoval', 'Sunflower', 'Marathon', 'McCone', \"St. Mary's\", 'Hunterdon', 'Oceana', 'Platte', 'District of Columbia', 'Harmon', 'Iberia', 'Frio', 'Sedgwick', 'McCracken', 'Talladega', 'Madison', 'Winchester', 'Wheatland', 'Dickenson', 'Sumner', 'Ray', 'New London', 'Kanabec', 'Santa Rosa', 'Mesa', 'Gogebic', 'New Castle', 'Ritchie', 'Muhlenberg', 'Copiah', 'Nicollet', 'Sarasota', 'George', 'Natchitoches', 'Darke', 'Bacon', 'Burke', 'Scott', 'Buchanan', 'Island', 'Gonzales', 'Green', 'Dundy', 'Trego', 'Chautauqua', 'Grand Traverse', 'Tuolumne', 'McNairy', 'Troup', 'Comal', 'McCulloch', 'De Witt', 'Kittitas', 'Geary', 'Pondera', 'Custer', 'Yavapai', 'Divide', 'Ross', 'Menominee', 'Rockbridge', 'Kidder', 'Finney', 'Porter', 'Cocke', 'Stark', 'Sierra', 'Waukesha', 'Metcalfe', 'Deaf Smith', 'Dale', 'Piatt', 'Burlington', 'Macomb', 'Chicot', 'Dewey', 'Mahaska', 'Clay', 'Lunenburg', 'Claiborne', 'Webb', 'Beadle', 'Boulder', 'Campbell', 'Roanoke City', 'Washburn', 'Whitfield', 'Walworth', 'Appanoose', 'Kootenai', 'Colbert', 'Taos', 'Lewis', 'Chariton', 'Jewell', 'Bertie', 'Neosho', 'Irion', 'Bannock', 'Alcona', 'Susquehanna', 'Gadsden', 'Coke', 'Bradley', 'Ascension', 'Grenada', 'Butts', 'McDowell', 'Nassau', 'Inyo', 'Boundary', 'Ripley', 'Mitchell', 'Delaware', 'Pamlico', 'Haines', 'Liberty', 'Chilton', 'Nemaha', 'Throckmorton', 'Leflore', 'Chase', 'Tishomingo', 'Androscoggin', 'Traverse', 'Motley', 'Erath', 'Gallia', 'San Diego', 'Harrisonburg', 'Roane', 'Alachua', 'Geauga', 'St. James', 'Grand', 'Lamoille', 'Galveston', 'Bowman', 'Hillsborough', 'Lynchburg', 'Wake', 'St. Mary', 'Lewis and Clark', 'Henrico', 'Windsor', 'Whitman', 'Out of TN', 'Lumpkin', 'Juniata', 'Kingman', 'Culberson', 'Pulaski', 'Carson City', 'Greensville', 'Otoe', 'Washakie', 'Leon', 'Petersburg', 'Bailey', 'Hempstead', 'Lucas', 'Tippecanoe', 'Weld', 'Chatham', 'Shasta', 'Merrick', 'Lafayette', 'Tulsa', 'Mills', 'Bullitt', 'Pemiscot', 'White', 'Belknap', 'Burt', 'Rutland', 'Buena Vista', 'Manitowoc', 'Gladwin', 'Huron', 'Hardeman', 'Carlisle', 'Yankton', 'Lycoming', 'Phelps', 'Dutchess', 'Aroostook', 'Concordia', 'Queens', 'Colusa', 'Terrebonne', 'Lackawanna', 'Lipscomb', 'Le Flore', 'Accomack', 'Bayfield', 'Gray', 'Piscataquis', 'Pettis', 'Johnston', 'Marinette', 'Koochiching', 'Forrest', 'Sabine', 'Story', 'Wythe', 'Coosa', 'Charles Mix', 'Guthrie', 'Skamania', 'St. Landry', 'Spotsylvania', 'McLeod', 'Pittsburg', 'Clermont', 'Yellowstone', 'Yakutat', 'Bear Lake', 'Jim Hogg', 'Payette', 'Cullman', 'Drew', 'Schleicher', 'Karnes', 'La Salle', 'Lemhi', 'Pottawattamie', 'Owsley', 'Oklahoma', 'Prairie', 'Letcher', 'Nueces', 'Nome', 'Canadian', 'Kemper', 'Etowah', 'Kinney', 'Dane', 'Lorain', 'Brooke', 'Prince William', 'Idaho', 'Clear Creek', 'Livingston', 'Venango', 'Sully', 'Evangeline', 'Hill', 'Lake of the Woods', 'Oldham', 'Ward', 'Muskingum', 'Jack', 'Elbert', 'Seneca', 'Rock', 'Judith Basin', 'Aiken', 'Harford', 'Franklin', 'Hudson', 'Hendry', 'Gwinnett', 'Okanogan', 'Overton', 'Cecil', 'Noble', 'Otero', 'Butler', 'Muskegon', 'Spencer', 'Mason', 'Paulding', 'Aleutians East', \"Prince George's\", 'Shannon', 'Miami', 'Chaves', 'Sutton', 'Schoharie', 'Acadia', 'Waupaca', 'Gilmer', 'Pend Oreille', 'Smith', 'Maverick', 'Cayuga', 'Wakulla', 'Laclede', 'Covington', 'Ziebach', 'Young', 'Tunica', 'Palo Pinto', 'Woodson', 'Ringgold', 'Fountain', 'Audubon', 'Somerset', 'Willacy', 'Anson', 'Aleutians West', 'Malheur', 'Gila', 'Branch', 'Bracken', 'Macon', 'Irwin', 'Onondaga', 'Schley', 'Union', 'Bullock', 'Gosper', 'Socorro', 'Camden', 'Habersham', 'Luce', 'Gentry', 'Will', 'Hinds', 'Newport', 'Beckham', 'Oxford', 'Dickey', 'Rich', 'Bremer', 'Kingsbury', 'Pipestone', 'Suffolk', 'Menard', 'Peoria', 'Laurel', 'Trigg', 'Saguache', 'Pickens', 'Amelia', 'Door', 'Sharp', 'Shoshone', 'Jersey', 'Grand Isle', 'Effingham', 'Dubuque', 'Bastrop', 'Emery', 'Hot Spring', 'Jefferson Davis', 'Trimble', 'Tehama', 'Davison', 'Rowan', 'Waynesboro', 'Plymouth', 'Worcester', 'Warren', 'Robertson', 'Gunnison', 'Mississippi', 'Beaver', 'Chaffee', 'Monterey', 'Pepin', 'Pasco', 'Gage', 'Moultrie', 'Oswego', 'Atascosa', 'Baltimore City', 'Bossier', 'Mora', 'Barnwell', 'Val Verde', 'Summers', 'Columbus', 'Boyle', 'Kenedy', 'Hamblen', 'Kane', 'Cabell', 'Graves', 'Kit Carson', 'McLean', 'Kent', 'Brunswick', 'Daggett', 'Ozaukee', 'Roger Mills', 'Reno', 'Berks', 'Cassia', 'Coffey', 'Pocahontas', 'Caribou', 'Oscoda', 'San Miguel', 'Halifax', 'Morrison', 'Bryan', 'Harnett', 'Desha', 'Iosco', 'Pottawatomie', 'Boise', 'Winkler', 'Dickson', 'Williams', 'Audrain', 'Towns', 'Merrimack', 'Marin', 'Dillon', 'Faribault', 'Wahkiakum', 'Hockley', 'Foster', 'Autauga', 'Sampson', 'Hyde', 'Stoddard', 'Juneau', 'Taney', 'Goochland', 'Pacific', 'Wilkes', 'Amite', 'Murray', 'Sevier', 'Woodbury', 'Norfolk', 'McHenry', 'Ransom', 'Glascock', 'Andrew', 'Huerfano', 'Navajo', 'Armstrong', 'Nolan', 'Cloud', 'Latah', 'Lexington', 'DeKalb', 'Pine', 'Denver', 'Glacier', 'Petroleum', 'Hutchinson', 'Waller', 'Wagoner', 'Geneva', 'Fisher', 'Green Lake', 'Alleghany', 'Fredericksburg', 'Davidson', 'Stutsman', 'Floyd', 'Gregg', 'Cheyenne', 'Rusk', 'Rockingham', 'Crittenden', 'Bollinger', 'Tuscaloosa', 'Pinal', 'Tyler', 'Dillingham', 'Ontonagon', 'Fannin', 'Swift', 'Box Butte', 'Conway', 'Hoke', 'Millard', 'Choctaw', 'Milwaukee', 'Calcasieu', 'Baca', 'Kitsap', 'Newaygo', 'Donley', 'Meriwether', 'Nelson', 'Hays', 'El Paso', 'Lawrence', 'Texas', 'Greenville', 'Rapides', 'Lea', 'Ventura', 'Scotts Bluff', 'Randall', 'Traill', 'Vanderburgh', 'Hubbard', 'Sanborn', 'Bleckley', 'Honolulu', 'Kendall', 'Valley', 'Kenton', 'Conecuh', 'Barnstable', 'Laramie', 'Bartholomew', 'Sebastian', 'Placer', 'Macoupin', 'Crenshaw', 'Alfalfa', 'Cannon', 'Berrien', 'Lac qui Parle', 'San Bernardino', 'Parker', 'Jerome', 'Emanuel', 'Kingfisher', 'Magoffin', 'Preble', 'Rockcastle', 'Garfield', 'Grant', 'New Haven', 'Lee', 'Rolette', 'Hayes', 'Litchfield', 'Fairfax City', 'Skagway', 'Dallas', 'Caddo', 'Alexander', 'Swain', 'Loving', 'Imperial', 'Cabarrus', 'Jay', 'Avery', 'Harrison', 'Mendocino', 'Colfax', 'Calumet', 'Blair', 'Snyder', 'Brazos', 'Montrose', 'Appling', 'Stanton', 'Ogle', 'Gem', 'Brooks', 'Bennington', 'Cambria', 'Dona Ana', 'Tippah', 'Monroe', 'Hettinger', 'Sacramento', 'Llano', 'Mountrail', 'Fergus', 'Pender', 'Morrow', 'Sussex', 'Richardson', 'Powhatan', 'Juab', 'Saline', 'Ontario', 'Garrett', 'Saginaw', 'Pontotoc', 'Coconino', 'Santa Fe', 'Onslow', 'Presque Isle', 'Sanilac', 'Washita', 'Rosebud', 'New Kent', 'Dawes', 'Klamath', 'Bradford', 'Wabaunsee', 'Victoria', 'Nash', 'Van Zandt', 'De Baca', 'White Pine', 'Falls Church', 'Granville', 'Botetourt', 'Corson', 'Tucker', 'Pointe Coupee', 'Yuba', 'Ralls', 'Mellette', 'San Juan', 'Monmouth', 'Oglala Lakota', 'Big Stone', 'Oktibbeha', 'Henry', 'Ozark', 'Fairfield', 'Zapata', 'Avoyelles', 'McCreary', 'Humboldt', 'Decatur', 'Pitt', 'Stokes', 'Hale', 'King George', 'Barren', 'Baraga', 'Dent', 'Screven', 'Athens', 'Arenac', 'Beauregard', 'Blackford', 'Prentiss', 'Titus', 'Pushmataha', 'Duchesne', 'San Saba', 'Lancaster', 'Essex', 'Salt Lake', 'Maries', 'Daviess', 'Day', 'Pittsylvania', 'Galax', 'Volusia', 'Silver Bow', 'Clackamas', 'Colleton', 'Kalamazoo', 'Rockwall', 'Bond', 'Spartanburg', 'Bergen', 'Coal', 'Terrell', 'Sequatchie', 'Rabun', 'Morehouse', 'Westchester', 'Newton', 'Randolph', 'St. Helena', 'Oregon', 'Miami-Dade', 'Levy', 'Nye', 'Palm Beach', 'Swisher', 'Aransas', 'Ida', 'Stanley', 'St. Louis City', 'Nicholas', 'Sandusky', 'Wayne', 'Kanawha', 'Doniphan', 'Ravalli', 'Grafton', 'Belmont', 'Allegheny', 'Larue', 'Meade', 'St. Louis', 'Todd', 'Broome', 'Shackelford', 'Mobile', 'Apache', 'Clallam', 'Trumbull', 'Charlotte', 'Nobles', 'Winston', 'Lavaca', 'Bedford', 'LaPorte', 'McDonough', 'Hamilton', 'Leavenworth', 'St. John the Baptist', 'Walker', 'Wicomico', 'Logan', 'Kimball', 'Yellow Medicine', 'Tuscola', 'McLennan', 'Mayes', 'Rock Island', 'King William', 'Providence', 'Kalkaska', 'Middlesex', 'Kansas City', 'Big Horn', 'Blaine', 'Teller', 'Toombs', 'Limestone', 'Dickinson', 'Cortland', 'Fremont', 'Mono', 'Montmorency', 'Carbon', 'Emporia', 'Bay', 'Charleston', 'Lincoln', 'Rice', 'Montour', 'Price', 'Natrona', 'Hall', 'Highland', 'McMinn', 'Red Willow', 'Harney', 'Lonoke', 'Dickens', 'Arapahoe', 'Sonoma', 'St. Charles', 'Allegany', 'Poquoson', 'Columbiana', 'Rockland', 'Sagadahoc', 'Camp', 'Ketchikan Gateway', 'Addison', 'Lanier', 'Allendale', 'Maricopa', 'Comanche', 'Sherman', 'Gallatin', 'Cibola', 'Greer', 'Coshocton', 'Hanson', 'Braxton', 'Cavalier', 'Winn', 'La Paz', 'Lenoir', 'Muscogee', 'Hickman', 'Out of MI', 'Goodhue', 'Bland', 'Wallowa', 'St. Martin', 'Cherry', 'Las Animas', 'Ochiltree', 'Indian River', 'Iberville', 'Weakley', 'Kleberg', 'Calaveras', 'Brule', 'Charles City', 'Sullivan', 'Baker', 'Bethel', 'Elko', 'Pima', 'Borden', 'Vinton', 'Haakon', 'Owyhee', 'Edmonson', 'Kenosha', 'Martinsville', 'Griggs', 'Cottonwood', 'Greenlee', 'Ada', 'Edgefield', 'Collier', 'Menifee', 'Norton', 'Little River', 'Atoka', 'Caswell', 'St. Lawrence', 'Wells', 'Gaines', 'Preston', 'Woodruff', 'Coryell', 'Bartow', 'Pitkin', 'Citrus', 'Ness', 'Starke', 'Garrard', 'Neshoba', 'Pendleton', 'Dixie', 'Barrow', 'Bosque', 'Anchorage', 'Ingham', 'Okaloosa', 'Conejos', 'Hertford', 'Iroquois', 'Mineral', 'Watauga', 'Carson', 'Turner', 'Forest', 'Lampasas', 'Loudon', 'Anne Arundel', 'Iowa', 'Ben Hill', 'Smyth', 'Madera', 'Lynn', 'Culpeper', 'McDonald', 'St. Clair', 'Hand', 'Gloucester', 'Allamakee', 'Kossuth', 'Grayson', 'Goshen', 'Fluvanna', 'Breathitt', 'Langlade', 'Southampton', 'Keweenaw', 'Faulkner', 'Chenango', 'Glynn', 'Okmulgee', 'Antelope', 'Louisa', 'Hitchcock', 'Caldwell', 'Walthall', 'Angelina', 'Greeley', 'Caroline', 'Potter', 'Rockdale', 'Garza', 'Barry', 'Lassen', 'Lenawee', 'Uintah', 'Klickitat', 'Chowan', 'Hampden', 'Hinsdale', 'Mercer', 'Dukes and Nantucket', 'Forsyth', 'Wilkinson', 'Appomattox', 'Raleigh', 'Eastland', 'Bolivar', 'Rawlins', 'Moody', 'Minidoka', 'Huntingdon', 'Greene', 'Mille Lacs', 'Sublette', 'Staunton', 'La Plata', 'San Francisco', 'Knox', 'McCurtain', 'Mecosta', 'Leelanau', 'Calvert', 'Clarion', 'Waushara', 'Winnebago', 'Hawaii', 'Breckinridge', 'Reagan', 'Wabash', 'Childress', 'Deuel', 'Fayette', 'Harris', 'Portsmouth', 'Tallahatchie', 'Payne', 'Rio Grande', 'Tom Green', 'Calhoun', 'Radford', 'Carter', 'Charlottesville', 'Davie', 'Morton', 'Walton', 'Wexford', 'Dare', 'Wapello', 'Freestone', 'Tift', 'Tensas', 'Sterling', 'Stearns', 'Alger', 'Beltrami', 'Midland', 'Tolland', 'Manassas Park', 'Somervell', 'Chouteau', 'Waseca', 'Dougherty', 'Orleans', 'King', 'New Hanover', 'Gilliam', 'Cascade', 'Travis', 'Westmoreland', 'Rio Blanco', 'Meigs', 'Roanoke', 'Shawnee', 'Dorchester', 'Stillwater', 'Haralson', 'Prince George', 'San Augustine', 'Deschutes', 'San Patricio', 'Callahan', 'Doña Ana', 'Faulk', 'Wise', 'Ferry', 'Roberts', 'Peach', 'St. Francois', 'Marengo', 'Obion', 'Mahoning', 'Telfair', 'Adair', 'Flathead', 'Bernalillo', 'Keokuk', 'Nacogdoches', 'Graham', 'Scioto', 'Bandera', 'Burleson', 'Red Lake', 'Matanuska-Susitna', 'Portage', 'Burleigh', 'Asotin', 'Stafford', 'Centre', 'Kosciusko', 'Wasatch', 'Morgan', 'Kiowa', 'Montague', 'Le Sueur', 'Rutherford', 'Nance', 'Archer', 'Tillman', 'Crockett', 'Unassigned', 'Stanislaus', 'Cross', 'Chippewa', 'Lubbock', 'Gilpin', 'Echols', 'Long', 'Flagler', 'Hillsdale', 'Buffalo', 'McIntosh', 'Chisago', 'Schoolcraft', 'Baxter', 'Seminole', 'Hanover', 'Ashe', 'Park', 'Van Wert', 'Licking', 'Otsego', 'Coahoma', 'Jackson', 'Hood', 'Cedar', 'Ware', 'Allegan', 'Douglas', 'Goliad', 'Shawano', 'Roseau', 'Charlton', 'Kusilvak', 'Sargent', 'Searcy', 'Clayton', 'Burnet', 'Richmond', 'Bowie', 'Southeast Fairbanks', 'Hennepin', 'Cooke', 'Harvey', 'Glades', 'Austin', 'Kauai', 'Uinta', 'Hartford', 'Cheboygan', 'Hardee', 'Genesee', 'Osceola', 'Polk', 'Pleasants', 'Alpena', 'Sawyer', 'Cheatham', 'Whiteside', 'Vance', 'Cotton', 'Shelby', 'Cherokee', 'Haywood', 'Republic', 'Modoc', 'Stone', 'Fleming', 'Loudoun', 'Hart', 'Bates', 'St. Bernard', 'Pinellas', 'Woodward', 'Norman', 'Trousdale', 'Red River', 'Edwards', 'Brazoria', 'Bledsoe', 'Granite', 'Noxubee', 'Oglethorpe', 'West Baton Rouge', 'Milam', 'Albemarle', 'Oneida', 'Cowley', 'Skagit', 'Tipton', 'Wetzel', 'Sweetwater', 'St. Lucie', 'Meeker', 'Yalobusha', 'Escambia', 'Shenandoah', 'Gates', 'Muskogee', 'New York City', 'Schenectady', 'Carroll', 'Saunders', 'Freeborn', 'Sharkey', 'Berkeley', 'Gooding', 'Okeechobee', 'Spalding', 'Chickasaw', 'Waldo', 'Shiawassee', 'DuPage', 'Kearney', 'Kern', 'Baltimore', 'Catawba', 'Attala', 'Routt', 'Pierce', 'Unicoi', 'Thurston', 'Wallace', 'Churchill', 'Wrangell', 'Hartley', 'Grundy', 'Tarrant', 'Jenkins', 'Wolfe', 'Bristol', 'Carlton', 'Holmes', 'Danville', 'Merced', 'Bucks', 'Steuben', 'Boone', 'Iron', 'Elmore', 'Prowers', 'Hood River', 'Beaverhead', 'Owen', 'Cuyahoga', 'Lane', 'Cochran', 'Osage', 'Yancey', 'Mohave', 'Ashley', 'Utah', 'Pratt', 'St. Joseph', 'Lapeer', 'York', 'Furnas', 'Ellsworth', 'Lyman', 'Nottoway', 'Isanti', 'Cottle', 'Hidalgo', 'Teton', 'West Feliciana', 'Perkins', 'Terry', 'Parmer', 'Taliaferro', 'Scotland', 'Catoosa', 'Brown', 'Grand Forks', 'Darlington', 'Codington', 'Wright', 'Wilkin', 'Chattahoochee', 'Hamlin', 'Howard', 'Laurens', 'Delta', 'Saluda', 'Duval', 'Presidio', 'Georgetown', 'Hendricks', 'Holt', 'Eaton', 'Guadalupe', 'Cobb', 'Santa Cruz', 'Blount', 'Sioux', 'Moffat', 'Herkimer', 'Bent', 'Callaway', 'Bath', 'Barron', 'Morrill', 'Itawamba', 'Kandiyohi', 'Chattooga', 'Harlan', 'Osborne', 'Page', 'Davis', 'Abbeville', 'Webster', 'Hooker', 'Greenup', 'Edmunds', 'Andrews', 'Montcalm', 'Chester', 'Grimes', 'Sumter', 'Kittson', 'Hot Springs', 'Zavala', 'East Carroll', 'Tattnall', 'Suwannee', 'Gove', 'Tallapoosa', 'Esmeralda', 'Eureka', 'Simpson', 'Wasco', 'Frontier', 'Clare', 'Napa', 'Cooper', 'Taylor', 'Box Elder', 'Garden', 'Miner', 'Banks', 'Hopewell', 'Craig', 'Upson', 'St. Croix', 'Aitkin', 'Henderson', 'Powder River', 'Niagara', 'Windham', 'Leslie', 'Sibley', 'Real', 'Hardin', 'Stephens', 'Steele', 'Bottineau', 'James City', 'Ulster', 'Gilchrist', 'Watonwan', 'Sanders', 'Cleburne', 'Sequoyah', 'Florence', 'Carver', 'Fulton', 'Plumas', 'Wharton', 'Kennebec', 'Lafourche', 'Benson', 'Dawson', 'Garland', 'Marion', 'Haskell', 'Brewster', 'Elkhart', 'Luzerne', 'Giles', 'Falls', 'Kewaunee', 'San Joaquin', 'Dauphin', 'Harding', 'La Crosse', 'Lehigh', 'Brookings', 'Kaufman', 'Hampshire', 'Latimer', 'Rensselaer', 'Virginia Beach', 'Labette', 'Houghton', 'Oakland', 'Moniteau', 'Coweta', 'Sweet Grass', 'Dunn', 'Ellis', 'Hernando', 'Calloway', 'Wyandot', 'Whatcom', 'Oconee', 'McKean', 'Benewah', 'Rains', 'Erie', 'Treutlen', 'Fentress', 'Cameron', 'Chesapeake', 'Crow Wing', 'Pembina', 'Quitman', 'Gulf', 'Refugio', 'Archuleta', 'Fond du Lac', 'Cleveland', 'Manassas', 'Hemphill', 'Weston', 'Itasca', 'Poweshiek', 'Hansford', 'Jim Wells', 'Ramsey', 'Guilford', 'Gaston', 'Kenai Peninsula', 'Live Oak', 'Chelan', 'Bell', 'Briscoe', 'Maury', 'Wilson', 'Guernsey', 'Rankin', 'Barbour', 'Yazoo', 'East Feliciana', 'Pickett', 'Buckingham', 'Highlands', 'Lamb', 'Hickory', 'Powell', 'Barber', 'Converse', 'Marlboro', 'Coles', 'Fauquier', 'Kershaw', 'Plaquemines', 'Lamar', 'Mecklenburg', 'Trempealeau', 'Newberry', \"Queen Anne's\", 'Massac', 'Casey', 'Cape Girardeau', 'DeSoto', 'McDuffie', 'Monongalia', 'Broadwater', 'Okfuskee', 'Glenn', 'Los Angeles', 'Poinsett', 'Nowata', 'Tripp', 'Dunklin', 'Concho', 'LaSalle', 'Bristol Bay', 'Ashtabula', 'Josephine', 'Valencia', 'Crook', 'Edgecombe', 'Iredell', 'Kerr', 'Rhea', 'Berkshire', 'Kodiak Island', 'Blue Earth', 'Gregory', 'Reynolds', 'Williamsburg', 'Piute', 'Roscommon', 'Umatilla', 'Bonner', 'Fairfax', 'Morris', 'Northampton', 'Ocean', 'Broomfield', 'Rappahannock', 'Assumption', 'Baldwin', 'Hampton', 'Pecos', 'Maui', 'Siskiyou', 'San Mateo', 'Hancock', 'McKinley', 'Burnett', 'Dade', 'Lake', 'Prince of Wales-Hyder', 'Chittenden', 'West Carroll', 'Indiana', 'Riverside', 'Nantucket', 'Nuckolls', 'Coleman', 'Uvalde', 'North Slope', 'Arkansas', 'Pasquotank', 'Creek', 'Love', 'Transylvania', 'Panola', 'Wibaux', 'Anoka', 'Outagamie', 'Crawford', 'Bee', 'Harper', 'Ionia', 'Santa Barbara', 'Ste. Genevieve', 'Storey', 'Billings', 'Broward', 'Barton', 'Kay', 'Cerro Gordo', 'Monona', 'Russell', 'Nevada', 'Blanco', 'Robeson', 'Yuma', 'Roosevelt', 'Fairbanks North Star', 'Switzerland', 'Trinity', 'Wadena', 'Denton', 'Starr', 'Duplin', 'Los Alamos', 'Renville', 'Craven', 'Defiance', 'Craighead', 'St. Francis', 'Albany', 'Jennings'])"
      ]
     },
     "execution_count": 37,
     "metadata": {},
     "output_type": "execute_result"
    }
   ],
   "source": [
    "county_country.keys()"
   ]
  },
  {
   "cell_type": "code",
   "execution_count": 38,
   "metadata": {},
   "outputs": [
    {
     "data": {
      "text/plain": [
       "'South Carolina'"
      ]
     },
     "execution_count": 38,
     "metadata": {},
     "output_type": "execute_result"
    }
   ],
   "source": [
    "latest_data[latest_data[\"Admin2\"] == \"Abbeville\"][\"Province_State\"].values[0]"
   ]
  },
  {
   "cell_type": "code",
   "execution_count": null,
   "metadata": {},
   "outputs": [],
   "source": []
  },
  {
   "cell_type": "code",
   "execution_count": 39,
   "metadata": {},
   "outputs": [],
   "source": [
    "county_data = {}\n",
    "for county in county_country.keys():\n",
    "    daily_confirmed_for_county = {}\n",
    "    for date in dates:\n",
    "        try:\n",
    "            daily_confirmed = dataframes[date][dataframes[date][\"Admin2\"] == county].Confirmed.sum()\n",
    "        except KeyError:\n",
    "            daily_confirmed = 0\n",
    "        daily_confirmed_for_county[date] = daily_confirmed\n",
    "    county_data[county] = daily_confirmed_for_county"
   ]
  },
  {
   "cell_type": "code",
   "execution_count": 40,
   "metadata": {},
   "outputs": [
    {
     "data": {
      "text/plain": [
       "<matplotlib.figure.Figure at 0x7f92e3ae0080>"
      ]
     },
     "metadata": {},
     "output_type": "display_data"
    }
   ],
   "source": [
    "for county, title in county_country.items():\n",
    "    plot_figure(county_data[county], title, \"County_or_City\")"
   ]
  },
  {
   "cell_type": "code",
   "execution_count": 41,
   "metadata": {},
   "outputs": [
    {
     "name": "stdout",
     "output_type": "stream",
     "text": [
      "Finished!\n"
     ]
    }
   ],
   "source": [
    "print(\"Finished!\")"
   ]
  },
  {
   "cell_type": "code",
   "execution_count": 42,
   "metadata": {},
   "outputs": [
    {
     "data": {
      "text/plain": [
       "{'01-22-2020': 0,\n",
       " '01-23-2020': 0,\n",
       " '01-24-2020': 0,\n",
       " '01-25-2020': 0,\n",
       " '01-26-2020': 0,\n",
       " '01-27-2020': 0,\n",
       " '01-28-2020': 0,\n",
       " '01-29-2020': 0,\n",
       " '01-30-2020': 0,\n",
       " '01-31-2020': 0,\n",
       " '02-01-2020': 0,\n",
       " '02-02-2020': 0,\n",
       " '02-03-2020': 0,\n",
       " '02-04-2020': 0,\n",
       " '02-05-2020': 0,\n",
       " '02-06-2020': 0,\n",
       " '02-07-2020': 0,\n",
       " '02-08-2020': 0,\n",
       " '02-09-2020': 0,\n",
       " '02-10-2020': 0,\n",
       " '02-11-2020': 0,\n",
       " '02-12-2020': 0,\n",
       " '02-13-2020': 0,\n",
       " '02-14-2020': 0,\n",
       " '02-15-2020': 0,\n",
       " '02-16-2020': 0,\n",
       " '02-17-2020': 0,\n",
       " '02-18-2020': 0,\n",
       " '02-19-2020': 0,\n",
       " '02-20-2020': 0,\n",
       " '02-21-2020': 0,\n",
       " '02-22-2020': 0,\n",
       " '02-23-2020': 0,\n",
       " '02-24-2020': 0,\n",
       " '02-25-2020': 0,\n",
       " '02-26-2020': 0,\n",
       " '02-27-2020': 0,\n",
       " '02-28-2020': 0,\n",
       " '02-29-2020': 0,\n",
       " '03-01-2020': 0,\n",
       " '03-02-2020': 0,\n",
       " '03-03-2020': 0,\n",
       " '03-04-2020': 0,\n",
       " '03-05-2020': 0,\n",
       " '03-06-2020': 0,\n",
       " '03-07-2020': 0,\n",
       " '03-08-2020': 0,\n",
       " '03-09-2020': 0,\n",
       " '03-10-2020': 0,\n",
       " '03-11-2020': 0,\n",
       " '03-12-2020': 0,\n",
       " '03-13-2020': 0,\n",
       " '03-14-2020': 0,\n",
       " '03-15-2020': 0,\n",
       " '03-16-2020': 0,\n",
       " '03-17-2020': 0,\n",
       " '03-18-2020': 0,\n",
       " '03-19-2020': 0,\n",
       " '03-20-2020': 0,\n",
       " '03-21-2020': 0,\n",
       " '03-22-2020': 9654,\n",
       " '03-23-2020': 12305,\n",
       " '03-24-2020': 14904,\n",
       " '03-25-2020': 17856,\n",
       " '03-26-2020': 21873}"
      ]
     },
     "execution_count": 42,
     "metadata": {},
     "output_type": "execute_result"
    }
   ],
   "source": [
    "county_data[\"New York City\"]"
   ]
  },
  {
   "cell_type": "code",
   "execution_count": null,
   "metadata": {},
   "outputs": [],
   "source": []
  }
 ],
 "metadata": {
  "kernelspec": {
   "display_name": "py36",
   "language": "python",
   "name": "py36"
  },
  "language_info": {
   "codemirror_mode": {
    "name": "ipython",
    "version": 3
   },
   "file_extension": ".py",
   "mimetype": "text/x-python",
   "name": "python",
   "nbconvert_exporter": "python",
   "pygments_lexer": "ipython3",
   "version": "3.6.2"
  }
 },
 "nbformat": 4,
 "nbformat_minor": 2
}
